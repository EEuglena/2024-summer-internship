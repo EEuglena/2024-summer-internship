{
 "cells": [
  {
   "cell_type": "code",
   "execution_count": 1,
   "metadata": {},
   "outputs": [
    {
     "name": "stderr",
     "output_type": "stream",
     "text": [
      "/home/sanghyeonl/miniforge3/envs/torch/lib/python3.9/site-packages/torch/cuda/__init__.py:619: UserWarning: Can't initialize NVML\n",
      "  warnings.warn(\"Can't initialize NVML\")\n"
     ]
    }
   ],
   "source": [
    "import numpy as np\n",
    "import pandas as pd\n",
    "import os\n",
    "import torch\n",
    "from torchvision.transforms import Compose\n",
    "from data import COLUMNS\n",
    "from plotly import graph_objects as go\n",
    "from transform import ExtractAtomicNumber, ExtractCoordinates, MonomerGraph, DimerGraph\n",
    "from dataset import DimerDataset\n",
    "from model import DimerInteractionEnergyModel\n",
    "from tqdm import tqdm\n",
    "from matplotlib import pyplot as plt"
   ]
  },
  {
   "cell_type": "code",
   "execution_count": 2,
   "metadata": {},
   "outputs": [],
   "source": [
    "import warnings\n",
    "\n",
    "warnings.filterwarnings(\n",
    "    \"ignore\",\n",
    "    message=\"The TorchScript type system doesn't support instance-level annotations on empty non-base types in `__init__`.\",\n",
    ")"
   ]
  },
  {
   "cell_type": "code",
   "execution_count": 3,
   "metadata": {},
   "outputs": [],
   "source": [
    "def MonomerGraphObject(data):\n",
    "    _color = [\"#0000FF\", \"#FF0000\"]\n",
    "    fig = go.Figure()\n",
    "\n",
    "    for p in data[\"pos\"]:\n",
    "        fig.add_trace(\n",
    "            go.Scatter3d(\n",
    "                x=p[:, 0],\n",
    "                y=p[:, 1],\n",
    "                z=p[:, 2],\n",
    "                mode=\"markers\",\n",
    "                marker=dict(size=3),\n",
    "            )\n",
    "        )\n",
    "\n",
    "    for i, (p, graph) in enumerate(zip(data[\"pos\"], data[\"mgraph\"])):\n",
    "        for s, d in zip(graph[\"src\"], graph[\"dst\"]):\n",
    "            fig.add_trace(\n",
    "                go.Scatter3d(\n",
    "                    x=[p[s, 0], p[d, 0]],\n",
    "                    y=[p[s, 1], p[d, 1]],\n",
    "                    z=[p[s, 2], p[d, 2]],\n",
    "                    mode=\"lines\",\n",
    "                    line=dict(color=_color[i]),\n",
    "                )\n",
    "            )\n",
    "\n",
    "    return fig\n",
    "\n",
    "\n",
    "def DimerGraphObject(data):\n",
    "    _color = \"#00FF00\"\n",
    "    fig = MonomerGraphObject(data)\n",
    "\n",
    "    for s, d in zip(data[\"dgraph\"][\"src\"], data[\"dgraph\"][\"dst\"]):\n",
    "        fig.add_trace(\n",
    "            go.Scatter3d(\n",
    "                x=[data[\"pos\"][0][s, 0], data[\"pos\"][1][d, 0]],\n",
    "                y=[data[\"pos\"][0][s, 1], data[\"pos\"][1][d, 1]],\n",
    "                z=[data[\"pos\"][0][s, 2], data[\"pos\"][1][d, 2]],\n",
    "                mode=\"lines\",\n",
    "                line=dict(color=_color),\n",
    "            )\n",
    "        )\n",
    "\n",
    "    return fig"
   ]
  },
  {
   "cell_type": "code",
   "execution_count": 4,
   "metadata": {},
   "outputs": [
    {
     "data": {
      "text/plain": [
       "device(type='cpu')"
      ]
     },
     "execution_count": 4,
     "metadata": {},
     "output_type": "execute_result"
    }
   ],
   "source": [
    "# device = torch.device(\"cuda\") if torch.cuda.is_available() else torch.device(\"cpu\")\n",
    "device = torch.device(\"cpu\")\n",
    "device"
   ]
  },
  {
   "cell_type": "code",
   "execution_count": 5,
   "metadata": {},
   "outputs": [],
   "source": [
    "file_name = \"DES15K.csv\"\n",
    "file_path = os.path.join(\"data\", file_name)\n",
    "transform = Compose(\n",
    "    [\n",
    "        ExtractAtomicNumber(),\n",
    "        ExtractCoordinates(),\n",
    "        MonomerGraph(r_cut=2.0, n_neighbors=0),\n",
    "        DimerGraph(r_cut=10.0, n_neighbors=0),\n",
    "    ]\n",
    ")\n",
    "dataset = DimerDataset(file_path, COLUMNS.DTYPES, transform=transform)"
   ]
  },
  {
   "cell_type": "code",
   "execution_count": 6,
   "metadata": {},
   "outputs": [],
   "source": [
    "model = DimerInteractionEnergyModel(\n",
    "    device=device,\n",
    "    activation_fn=torch.tanh,\n",
    "    max_z=118,\n",
    "    dim_atoms=30,\n",
    "    mu_min=0.0,\n",
    "    mu_max=20.0,\n",
    "    step=0.2,\n",
    "    irreps_r=\"101x0e\",\n",
    "    irreps_sh=\"1x0e+1x1o+1x2e\",\n",
    "    irreps_atom=\"30x0e\",\n",
    "    n_interactions=3,\n",
    ")\n",
    "\n",
    "optimizer = torch.optim.Adam(model.parameters(), lr=1e-3, weight_decay=1e-3)"
   ]
  },
  {
   "cell_type": "code",
   "execution_count": 7,
   "metadata": {},
   "outputs": [],
   "source": [
    "train_dataset = dataset[:1000]\n",
    "valid_dataset = dataset[1000:1200]\n",
    "infer_dataset = dataset[-1000:]"
   ]
  },
  {
   "cell_type": "code",
   "execution_count": 8,
   "metadata": {},
   "outputs": [
    {
     "name": "stderr",
     "output_type": "stream",
     "text": [
      "Epoch #01 (train): 100%|██████████| 1000/1000 [00:12<00:00, 82.56it/s]\n",
      "Epoch #01 (valid): 100%|██████████| 200/200 [00:00<00:00, 265.07it/s]\n",
      "Epoch #02 (train): 100%|██████████| 1000/1000 [00:14<00:00, 69.83it/s]\n",
      "Epoch #02 (valid): 100%|██████████| 200/200 [00:00<00:00, 288.32it/s]\n",
      "Epoch #03 (train): 100%|██████████| 1000/1000 [00:15<00:00, 63.49it/s]\n",
      "Epoch #03 (valid): 100%|██████████| 200/200 [00:00<00:00, 279.30it/s]\n",
      "Epoch #04 (train): 100%|██████████| 1000/1000 [00:16<00:00, 62.40it/s]\n",
      "Epoch #04 (valid): 100%|██████████| 200/200 [00:00<00:00, 256.79it/s]\n",
      "Epoch #05 (train): 100%|██████████| 1000/1000 [00:16<00:00, 60.73it/s]\n",
      "Epoch #05 (valid): 100%|██████████| 200/200 [00:00<00:00, 278.81it/s]\n",
      "Epoch #06 (train): 100%|██████████| 1000/1000 [00:16<00:00, 60.10it/s]\n",
      "Epoch #06 (valid): 100%|██████████| 200/200 [00:00<00:00, 255.09it/s]\n",
      "Epoch #07 (train): 100%|██████████| 1000/1000 [00:16<00:00, 58.89it/s]\n",
      "Epoch #07 (valid): 100%|██████████| 200/200 [00:00<00:00, 259.91it/s]\n",
      "Epoch #08 (train): 100%|██████████| 1000/1000 [00:16<00:00, 59.62it/s]\n",
      "Epoch #08 (valid): 100%|██████████| 200/200 [00:00<00:00, 279.83it/s]\n",
      "Epoch #09 (train): 100%|██████████| 1000/1000 [00:16<00:00, 60.58it/s]\n",
      "Epoch #09 (valid): 100%|██████████| 200/200 [00:00<00:00, 267.44it/s]\n",
      "Epoch #10 (train): 100%|██████████| 1000/1000 [00:17<00:00, 57.68it/s]\n",
      "Epoch #10 (valid): 100%|██████████| 200/200 [00:00<00:00, 253.60it/s]\n",
      "Epoch #11 (train): 100%|██████████| 1000/1000 [00:18<00:00, 54.64it/s]\n",
      "Epoch #11 (valid): 100%|██████████| 200/200 [00:00<00:00, 214.23it/s]\n",
      "Epoch #12 (train): 100%|██████████| 1000/1000 [00:16<00:00, 59.85it/s]\n",
      "Epoch #12 (valid): 100%|██████████| 200/200 [00:00<00:00, 256.74it/s]\n",
      "Epoch #13 (train): 100%|██████████| 1000/1000 [00:15<00:00, 63.05it/s]\n",
      "Epoch #13 (valid): 100%|██████████| 200/200 [00:00<00:00, 280.87it/s]\n",
      "Epoch #14 (train): 100%|██████████| 1000/1000 [00:16<00:00, 61.35it/s]\n",
      "Epoch #14 (valid): 100%|██████████| 200/200 [00:00<00:00, 251.97it/s]\n",
      "Epoch #15 (train): 100%|██████████| 1000/1000 [00:16<00:00, 61.16it/s]\n",
      "Epoch #15 (valid): 100%|██████████| 200/200 [00:00<00:00, 255.24it/s]\n",
      "Epoch #16 (train): 100%|██████████| 1000/1000 [00:16<00:00, 61.48it/s]\n",
      "Epoch #16 (valid): 100%|██████████| 200/200 [00:00<00:00, 280.95it/s]\n",
      "Epoch #17 (train): 100%|██████████| 1000/1000 [00:17<00:00, 56.49it/s]\n",
      "Epoch #17 (valid): 100%|██████████| 200/200 [00:00<00:00, 243.84it/s]\n",
      "Epoch #18 (train): 100%|██████████| 1000/1000 [00:17<00:00, 57.45it/s]\n",
      "Epoch #18 (valid): 100%|██████████| 200/200 [00:00<00:00, 275.49it/s]\n",
      "Epoch #19 (train): 100%|██████████| 1000/1000 [00:16<00:00, 60.93it/s]\n",
      "Epoch #19 (valid): 100%|██████████| 200/200 [00:00<00:00, 271.49it/s]\n",
      "Epoch #20 (train): 100%|██████████| 1000/1000 [00:16<00:00, 61.47it/s]\n",
      "Epoch #20 (valid): 100%|██████████| 200/200 [00:00<00:00, 262.39it/s]\n",
      "Epoch #21 (train): 100%|██████████| 1000/1000 [00:16<00:00, 61.26it/s]\n",
      "Epoch #21 (valid): 100%|██████████| 200/200 [00:00<00:00, 251.99it/s]\n",
      "Epoch #22 (train): 100%|██████████| 1000/1000 [00:16<00:00, 61.76it/s]\n",
      "Epoch #22 (valid): 100%|██████████| 200/200 [00:00<00:00, 276.58it/s]\n",
      "Epoch #23 (train): 100%|██████████| 1000/1000 [00:16<00:00, 60.43it/s]\n",
      "Epoch #23 (valid): 100%|██████████| 200/200 [00:00<00:00, 274.53it/s]\n",
      "Epoch #24 (train): 100%|██████████| 1000/1000 [00:16<00:00, 62.46it/s]\n",
      "Epoch #24 (valid): 100%|██████████| 200/200 [00:00<00:00, 250.03it/s]\n",
      "Epoch #25 (train): 100%|██████████| 1000/1000 [00:16<00:00, 59.15it/s]\n",
      "Epoch #25 (valid): 100%|██████████| 200/200 [00:00<00:00, 256.93it/s]\n",
      "Epoch #26 (train): 100%|██████████| 1000/1000 [00:16<00:00, 59.38it/s]\n",
      "Epoch #26 (valid): 100%|██████████| 200/200 [00:00<00:00, 256.59it/s]\n",
      "Epoch #27 (train): 100%|██████████| 1000/1000 [00:15<00:00, 62.57it/s]\n",
      "Epoch #27 (valid): 100%|██████████| 200/200 [00:00<00:00, 296.20it/s]\n",
      "Epoch #28 (train): 100%|██████████| 1000/1000 [00:15<00:00, 62.89it/s]\n",
      "Epoch #28 (valid): 100%|██████████| 200/200 [00:00<00:00, 285.50it/s]\n",
      "Epoch #29 (train): 100%|██████████| 1000/1000 [00:15<00:00, 63.18it/s]\n",
      "Epoch #29 (valid): 100%|██████████| 200/200 [00:00<00:00, 276.15it/s]\n",
      "Epoch #30 (train): 100%|██████████| 1000/1000 [00:15<00:00, 64.65it/s]\n",
      "Epoch #30 (valid): 100%|██████████| 200/200 [00:00<00:00, 298.39it/s]\n",
      "Epoch #31 (train): 100%|██████████| 1000/1000 [00:16<00:00, 61.65it/s]\n",
      "Epoch #31 (valid): 100%|██████████| 200/200 [00:00<00:00, 247.96it/s]\n",
      "Epoch #32 (train): 100%|██████████| 1000/1000 [00:16<00:00, 61.65it/s]\n",
      "Epoch #32 (valid): 100%|██████████| 200/200 [00:00<00:00, 288.57it/s]\n",
      "Epoch #33 (train): 100%|██████████| 1000/1000 [00:15<00:00, 63.22it/s]\n",
      "Epoch #33 (valid): 100%|██████████| 200/200 [00:00<00:00, 281.41it/s]\n",
      "Epoch #34 (train): 100%|██████████| 1000/1000 [00:15<00:00, 64.08it/s]\n",
      "Epoch #34 (valid): 100%|██████████| 200/200 [00:00<00:00, 291.72it/s]\n",
      "Epoch #35 (train): 100%|██████████| 1000/1000 [00:16<00:00, 60.08it/s]\n",
      "Epoch #35 (valid): 100%|██████████| 200/200 [00:00<00:00, 258.41it/s]\n",
      "Epoch #36 (train): 100%|██████████| 1000/1000 [00:16<00:00, 59.73it/s]\n",
      "Epoch #36 (valid): 100%|██████████| 200/200 [00:00<00:00, 267.19it/s]\n",
      "Epoch #37 (train): 100%|██████████| 1000/1000 [00:17<00:00, 58.30it/s]\n",
      "Epoch #37 (valid): 100%|██████████| 200/200 [00:00<00:00, 250.04it/s]\n",
      "Epoch #38 (train): 100%|██████████| 1000/1000 [00:16<00:00, 59.25it/s]\n",
      "Epoch #38 (valid): 100%|██████████| 200/200 [00:00<00:00, 250.40it/s]\n",
      "Epoch #39 (train): 100%|██████████| 1000/1000 [00:16<00:00, 60.90it/s]\n",
      "Epoch #39 (valid): 100%|██████████| 200/200 [00:00<00:00, 280.16it/s]\n",
      "Epoch #40 (train): 100%|██████████| 1000/1000 [00:16<00:00, 62.50it/s]\n",
      "Epoch #40 (valid): 100%|██████████| 200/200 [00:00<00:00, 274.47it/s]\n",
      "Epoch #41 (train): 100%|██████████| 1000/1000 [00:16<00:00, 61.91it/s]\n",
      "Epoch #41 (valid): 100%|██████████| 200/200 [00:00<00:00, 279.89it/s]\n",
      "Epoch #42 (train): 100%|██████████| 1000/1000 [00:16<00:00, 61.96it/s]\n",
      "Epoch #42 (valid): 100%|██████████| 200/200 [00:00<00:00, 266.82it/s]\n",
      "Epoch #43 (train): 100%|██████████| 1000/1000 [00:16<00:00, 59.76it/s]\n",
      "Epoch #43 (valid): 100%|██████████| 200/200 [00:00<00:00, 236.30it/s]\n",
      "Epoch #44 (train): 100%|██████████| 1000/1000 [00:15<00:00, 63.33it/s]\n",
      "Epoch #44 (valid): 100%|██████████| 200/200 [00:00<00:00, 258.08it/s]\n",
      "Epoch #45 (train): 100%|██████████| 1000/1000 [00:16<00:00, 61.26it/s]\n",
      "Epoch #45 (valid): 100%|██████████| 200/200 [00:00<00:00, 238.38it/s]\n",
      "Epoch #46 (train): 100%|██████████| 1000/1000 [00:17<00:00, 58.64it/s]\n",
      "Epoch #46 (valid): 100%|██████████| 200/200 [00:00<00:00, 271.35it/s]\n",
      "Epoch #47 (train): 100%|██████████| 1000/1000 [00:16<00:00, 62.36it/s]\n",
      "Epoch #47 (valid): 100%|██████████| 200/200 [00:00<00:00, 248.81it/s]\n",
      "Epoch #48 (train): 100%|██████████| 1000/1000 [00:17<00:00, 58.64it/s]\n",
      "Epoch #48 (valid): 100%|██████████| 200/200 [00:00<00:00, 257.86it/s]\n",
      "Epoch #49 (train): 100%|██████████| 1000/1000 [00:17<00:00, 57.78it/s]\n",
      "Epoch #49 (valid): 100%|██████████| 200/200 [00:00<00:00, 261.96it/s]\n",
      "Epoch #50 (train): 100%|██████████| 1000/1000 [00:16<00:00, 62.11it/s]\n",
      "Epoch #50 (valid): 100%|██████████| 200/200 [00:00<00:00, 297.30it/s]\n",
      "Epoch #51 (train): 100%|██████████| 1000/1000 [00:15<00:00, 63.29it/s]\n",
      "Epoch #51 (valid): 100%|██████████| 200/200 [00:00<00:00, 290.21it/s]\n",
      "Epoch #52 (train): 100%|██████████| 1000/1000 [00:16<00:00, 62.14it/s]\n",
      "Epoch #52 (valid): 100%|██████████| 200/200 [00:00<00:00, 285.30it/s]\n",
      "Epoch #53 (train): 100%|██████████| 1000/1000 [00:15<00:00, 63.71it/s]\n",
      "Epoch #53 (valid): 100%|██████████| 200/200 [00:00<00:00, 272.27it/s]\n",
      "Epoch #54 (train): 100%|██████████| 1000/1000 [00:16<00:00, 61.39it/s]\n",
      "Epoch #54 (valid): 100%|██████████| 200/200 [00:00<00:00, 279.36it/s]\n",
      "Epoch #55 (train): 100%|██████████| 1000/1000 [00:16<00:00, 61.39it/s]\n",
      "Epoch #55 (valid): 100%|██████████| 200/200 [00:00<00:00, 260.15it/s]\n",
      "Epoch #56 (train): 100%|██████████| 1000/1000 [00:16<00:00, 59.77it/s]\n",
      "Epoch #56 (valid): 100%|██████████| 200/200 [00:00<00:00, 260.00it/s]\n",
      "Epoch #57 (train): 100%|██████████| 1000/1000 [00:16<00:00, 61.72it/s]\n",
      "Epoch #57 (valid): 100%|██████████| 200/200 [00:00<00:00, 281.88it/s]\n",
      "Epoch #58 (train): 100%|██████████| 1000/1000 [00:16<00:00, 59.73it/s]\n",
      "Epoch #58 (valid): 100%|██████████| 200/200 [00:00<00:00, 252.89it/s]\n",
      "Epoch #59 (train): 100%|██████████| 1000/1000 [00:15<00:00, 62.84it/s]\n",
      "Epoch #59 (valid): 100%|██████████| 200/200 [00:00<00:00, 293.87it/s]\n",
      "Epoch #60 (train): 100%|██████████| 1000/1000 [00:15<00:00, 63.18it/s]\n",
      "Epoch #60 (valid): 100%|██████████| 200/200 [00:00<00:00, 294.44it/s]\n",
      "Epoch #61 (train): 100%|██████████| 1000/1000 [00:15<00:00, 62.65it/s]\n",
      "Epoch #61 (valid): 100%|██████████| 200/200 [00:00<00:00, 290.07it/s]\n",
      "Epoch #62 (train): 100%|██████████| 1000/1000 [00:15<00:00, 63.46it/s]\n",
      "Epoch #62 (valid): 100%|██████████| 200/200 [00:00<00:00, 295.63it/s]\n",
      "Epoch #63 (train): 100%|██████████| 1000/1000 [00:15<00:00, 62.89it/s]\n",
      "Epoch #63 (valid): 100%|██████████| 200/200 [00:00<00:00, 277.64it/s]\n",
      "Epoch #64 (train): 100%|██████████| 1000/1000 [00:16<00:00, 62.32it/s]\n",
      "Epoch #64 (valid): 100%|██████████| 200/200 [00:00<00:00, 285.36it/s]\n",
      "Epoch #65 (train): 100%|██████████| 1000/1000 [00:16<00:00, 61.27it/s]\n",
      "Epoch #65 (valid): 100%|██████████| 200/200 [00:00<00:00, 245.71it/s]\n",
      "Epoch #66 (train): 100%|██████████| 1000/1000 [00:16<00:00, 61.66it/s]\n",
      "Epoch #66 (valid): 100%|██████████| 200/200 [00:00<00:00, 271.93it/s]\n",
      "Epoch #67 (train): 100%|██████████| 1000/1000 [00:17<00:00, 57.49it/s]\n",
      "Epoch #67 (valid): 100%|██████████| 200/200 [00:00<00:00, 283.18it/s]\n",
      "Epoch #68 (train): 100%|██████████| 1000/1000 [00:16<00:00, 60.76it/s]\n",
      "Epoch #68 (valid): 100%|██████████| 200/200 [00:00<00:00, 287.01it/s]\n",
      "Epoch #69 (train): 100%|██████████| 1000/1000 [00:16<00:00, 58.83it/s]\n",
      "Epoch #69 (valid): 100%|██████████| 200/200 [00:00<00:00, 282.08it/s]\n",
      "Epoch #70 (train): 100%|██████████| 1000/1000 [00:17<00:00, 58.59it/s]\n",
      "Epoch #70 (valid): 100%|██████████| 200/200 [00:00<00:00, 297.20it/s]\n",
      "Epoch #71 (train): 100%|██████████| 1000/1000 [00:17<00:00, 58.38it/s]\n",
      "Epoch #71 (valid): 100%|██████████| 200/200 [00:00<00:00, 290.61it/s]\n",
      "Epoch #72 (train): 100%|██████████| 1000/1000 [00:17<00:00, 57.52it/s]\n",
      "Epoch #72 (valid): 100%|██████████| 200/200 [00:00<00:00, 282.42it/s]\n",
      "Epoch #73 (train): 100%|██████████| 1000/1000 [00:16<00:00, 59.62it/s]\n",
      "Epoch #73 (valid): 100%|██████████| 200/200 [00:00<00:00, 288.11it/s]\n",
      "Epoch #74 (train): 100%|██████████| 1000/1000 [00:17<00:00, 58.47it/s]\n",
      "Epoch #74 (valid): 100%|██████████| 200/200 [00:00<00:00, 289.00it/s]\n",
      "Epoch #75 (train): 100%|██████████| 1000/1000 [00:17<00:00, 56.96it/s]\n",
      "Epoch #75 (valid): 100%|██████████| 200/200 [00:00<00:00, 256.93it/s]\n",
      "Epoch #76 (train): 100%|██████████| 1000/1000 [00:18<00:00, 55.29it/s]\n",
      "Epoch #76 (valid): 100%|██████████| 200/200 [00:00<00:00, 253.02it/s]\n",
      "Epoch #77 (train): 100%|██████████| 1000/1000 [00:18<00:00, 55.13it/s]\n",
      "Epoch #77 (valid): 100%|██████████| 200/200 [00:00<00:00, 266.11it/s]\n",
      "Epoch #78 (train): 100%|██████████| 1000/1000 [00:17<00:00, 55.89it/s]\n",
      "Epoch #78 (valid): 100%|██████████| 200/200 [00:00<00:00, 263.46it/s]\n",
      "Epoch #79 (train): 100%|██████████| 1000/1000 [00:17<00:00, 56.51it/s]\n",
      "Epoch #79 (valid): 100%|██████████| 200/200 [00:00<00:00, 277.55it/s]\n",
      "Epoch #80 (train): 100%|██████████| 1000/1000 [00:17<00:00, 58.41it/s]\n",
      "Epoch #80 (valid): 100%|██████████| 200/200 [00:00<00:00, 289.75it/s]\n",
      "Epoch #81 (train): 100%|██████████| 1000/1000 [00:17<00:00, 57.63it/s]\n",
      "Epoch #81 (valid): 100%|██████████| 200/200 [00:00<00:00, 287.43it/s]\n",
      "Epoch #82 (train): 100%|██████████| 1000/1000 [00:16<00:00, 59.28it/s]\n",
      "Epoch #82 (valid): 100%|██████████| 200/200 [00:00<00:00, 277.38it/s]\n",
      "Epoch #83 (train): 100%|██████████| 1000/1000 [00:17<00:00, 57.75it/s]\n",
      "Epoch #83 (valid): 100%|██████████| 200/200 [00:00<00:00, 272.12it/s]\n",
      "Epoch #84 (train): 100%|██████████| 1000/1000 [00:16<00:00, 58.99it/s]\n",
      "Epoch #84 (valid): 100%|██████████| 200/200 [00:00<00:00, 291.51it/s]\n",
      "Epoch #85 (train): 100%|██████████| 1000/1000 [00:17<00:00, 58.46it/s]\n",
      "Epoch #85 (valid): 100%|██████████| 200/200 [00:00<00:00, 284.67it/s]\n"
     ]
    }
   ],
   "source": [
    "best_loss = torch.inf\n",
    "\n",
    "train_loss = []\n",
    "threshold = 3\n",
    "count = 0\n",
    "\n",
    "for epoch in range(100):\n",
    "    model.train()\n",
    "    _loss = []\n",
    "    for batch in tqdm(train_dataset, desc=f\"Epoch #{epoch + 1:02} (train)\"):\n",
    "        data, readout = model(batch)\n",
    "        loss = (data[\"cc_HF\"] - readout) ** 2\n",
    "        optimizer.zero_grad()\n",
    "        loss.backward()\n",
    "        optimizer.step()\n",
    "        _loss.append(loss.item())\n",
    "    _loss = np.mean(_loss)\n",
    "    train_loss.append(_loss)\n",
    "\n",
    "    model.eval()\n",
    "    valid_loss = []\n",
    "    with torch.no_grad():\n",
    "        for batch in tqdm(valid_dataset, desc=f\"Epoch #{epoch + 1:02} (valid)\"):\n",
    "            data, readout = model(batch)\n",
    "            loss = (data[\"cc_HF\"] - readout) ** 2\n",
    "            valid_loss.append(loss.item())\n",
    "        valid_loss = np.mean(valid_loss)\n",
    "        if valid_loss < best_loss:\n",
    "            count = 0\n",
    "            best_loss = valid_loss\n",
    "            torch.save(\n",
    "                {\n",
    "                    \"epoch\": epoch,\n",
    "                    \"model_state_dict\": model.state_dict(),\n",
    "                    \"optimizer_state_dict\": optimizer.state_dict(),\n",
    "                    \"loss\": best_loss,\n",
    "                },\n",
    "                \"model.pt\",\n",
    "            )\n",
    "        else:\n",
    "            count += 1\n",
    "            if count > threshold:\n",
    "                break"
   ]
  },
  {
   "cell_type": "code",
   "execution_count": 9,
   "metadata": {},
   "outputs": [],
   "source": [
    "checkpoint = torch.load(\"model.pt\")\n",
    "model.load_state_dict(checkpoint[\"model_state_dict\"])\n",
    "optimizer.load_state_dict(checkpoint[\"optimizer_state_dict\"])"
   ]
  },
  {
   "cell_type": "code",
   "execution_count": 14,
   "metadata": {},
   "outputs": [],
   "source": [
    "model.eval()\n",
    "label = []\n",
    "inference = []\n",
    "with torch.no_grad():\n",
    "    for batch in infer_dataset:\n",
    "        data, readout = model(batch)\n",
    "        label.append(data[\"cc_HF\"])\n",
    "        inference.append(readout.item())"
   ]
  },
  {
   "cell_type": "code",
   "execution_count": 12,
   "metadata": {},
   "outputs": [
    {
     "data": {
      "image/png": "[encoded data removed]",
      "text/plain": [
       "<Figure size 640x480 with 1 Axes>"
      ]
     },
     "metadata": {},
     "output_type": "display_data"
    }
   ],
   "source": [
    "plt.plot(train_loss)\n",
    "plt.show()"
   ]
  },
  {
   "cell_type": "code",
   "execution_count": 15,
   "metadata": {},
   "outputs": [
    {
     "data": {
      "image/png": "[encoded data removed]",
      "text/plain": [
       "<Figure size 640x480 with 1 Axes>"
      ]
     },
     "metadata": {},
     "output_type": "display_data"
    }
   ],
   "source": [
    "plt.plot(label, label=\"label\")\n",
    "plt.plot(inference, label=\"model\")\n",
    "plt.show()"
   ]
  },
  {
   "cell_type": "code",
   "execution_count": 21,
   "metadata": {},
   "outputs": [
    {
     "data": {
      "image/png": "[encoded data removed]",
      "text/plain": [
       "<Figure size 640x480 with 1 Axes>"
      ]
     },
     "metadata": {},
     "output_type": "display_data"
    }
   ],
   "source": [
    "plt.scatter(label, inference)\n",
    "plt.show()"
   ]
  },
  {
   "cell_type": "code",
   "execution_count": 28,
   "metadata": {},
   "outputs": [
    {
     "data": {
      "application/vnd.plotly.v1+json": {
       "config": {
        "plotlyServerURL": "https://plot.ly"
       },
       "data": [
        {
         "marker": {
          "size": 3
         },
         "mode": "markers",
         "type": "scatter3d",
         "x": [
          2.802079916000366,
          2.510509967803955,
          2.8232100009918213,
          3.8923299312591553,
          2.303529977798462,
          2.4818899631500244,
          1.510830044746399,
          2.3251099586486816,
          2.5185799598693848,
          3.9143099784851074
         ],
         "y": [
          2.903179883956909,
          1.6964099407196045,
          0.49230000376701355,
          2.96097993850708,
          2.922790050506592,
          3.7887001037597656,
          1.6880600452423096,
          0.46055999398231506,
          -0.39671000838279724,
          0.4530799984931946
         ],
         "z": [
          3.5124399662017822,
          2.744529962539673,
          3.5082900524139404,
          3.6693599224090576,
          4.496140003204346,
          2.9380300045013428,
          2.5050599575042725,
          4.4918999671936035,
          2.9308199882507324,
          3.6650400161743164
         ]
        },
        {
         "marker": {
          "size": 3
         },
         "mode": "markers",
         "type": "scatter3d",
         "x": [
          0.8516799807548523,
          -0.2981700003147125,
          -0.4294300079345703,
          0.9983599781990051,
          0.9567999839782715,
          0.46998998522758484,
          1.8476699590682983,
          1.9503300189971924,
          0.9444100260734558,
          0.9888299703598022
         ],
         "y": [
          -0.18118000030517578,
          0.8991600275039673,
          2.4991800785064697,
          3.488759994506836,
          -1.1046099662780762,
          -0.44764000177383423,
          0.27869001030921936,
          2.9602999687194824,
          3.770550012588501,
          4.408820152282715
         ],
         "z": [
          0.3109000027179718,
          -0.5680099725723267,
          0.687969982624054,
          0.19405999779701233,
          -0.2831000089645386,
          1.31086003780365,
          0.4255400002002716,
          0.3703700006008148,
          -0.8709700107574463,
          0.8023399710655212
         ]
        },
        {
         "line": {
          "color": "#0000FF"
         },
         "mode": "lines",
         "type": "scatter3d",
         "x": [
          2.510509967803955,
          2.802079916000366
         ],
         "y": [
          1.6964099407196045,
          2.903179883956909
         ],
         "z": [
          2.744529962539673,
          3.5124399662017822
         ]
        },
        {
         "line": {
          "color": "#0000FF"
         },
         "mode": "lines",
         "type": "scatter3d",
         "x": [
          3.8923299312591553,
          2.802079916000366
         ],
         "y": [
          2.96097993850708,
          2.903179883956909
         ],
         "z": [
          3.6693599224090576,
          3.5124399662017822
         ]
        },
        {
         "line": {
          "color": "#0000FF"
         },
         "mode": "lines",
         "type": "scatter3d",
         "x": [
          2.303529977798462,
          2.802079916000366
         ],
         "y": [
          2.922790050506592,
          2.903179883956909
         ],
         "z": [
          4.496140003204346,
          3.5124399662017822
         ]
        },
        {
         "line": {
          "color": "#0000FF"
         },
         "mode": "lines",
         "type": "scatter3d",
         "x": [
          2.4818899631500244,
          2.802079916000366
         ],
         "y": [
          3.7887001037597656,
          2.903179883956909
         ],
         "z": [
          2.9380300045013428,
          3.5124399662017822
         ]
        },
        {
         "line": {
          "color": "#0000FF"
         },
         "mode": "lines",
         "type": "scatter3d",
         "x": [
          2.802079916000366,
          2.510509967803955
         ],
         "y": [
          2.903179883956909,
          1.6964099407196045
         ],
         "z": [
          3.5124399662017822,
          2.744529962539673
         ]
        },
        {
         "line": {
          "color": "#0000FF"
         },
         "mode": "lines",
         "type": "scatter3d",
         "x": [
          2.8232100009918213,
          2.510509967803955
         ],
         "y": [
          0.49230000376701355,
          1.6964099407196045
         ],
         "z": [
          3.5082900524139404,
          2.744529962539673
         ]
        },
        {
         "line": {
          "color": "#0000FF"
         },
         "mode": "lines",
         "type": "scatter3d",
         "x": [
          1.510830044746399,
          2.510509967803955
         ],
         "y": [
          1.6880600452423096,
          1.6964099407196045
         ],
         "z": [
          2.5050599575042725,
          2.744529962539673
         ]
        },
        {
         "line": {
          "color": "#0000FF"
         },
         "mode": "lines",
         "type": "scatter3d",
         "x": [
          2.510509967803955,
          2.8232100009918213
         ],
         "y": [
          1.6964099407196045,
          0.49230000376701355
         ],
         "z": [
          2.744529962539673,
          3.5082900524139404
         ]
        },
        {
         "line": {
          "color": "#0000FF"
         },
         "mode": "lines",
         "type": "scatter3d",
         "x": [
          2.3251099586486816,
          2.8232100009918213
         ],
         "y": [
          0.46055999398231506,
          0.49230000376701355
         ],
         "z": [
          4.4918999671936035,
          3.5082900524139404
         ]
        },
        {
         "line": {
          "color": "#0000FF"
         },
         "mode": "lines",
         "type": "scatter3d",
         "x": [
          2.5185799598693848,
          2.8232100009918213
         ],
         "y": [
          -0.39671000838279724,
          0.49230000376701355
         ],
         "z": [
          2.9308199882507324,
          3.5082900524139404
         ]
        },
        {
         "line": {
          "color": "#0000FF"
         },
         "mode": "lines",
         "type": "scatter3d",
         "x": [
          3.9143099784851074,
          2.8232100009918213
         ],
         "y": [
          0.4530799984931946,
          0.49230000376701355
         ],
         "z": [
          3.6650400161743164,
          3.5082900524139404
         ]
        },
        {
         "line": {
          "color": "#0000FF"
         },
         "mode": "lines",
         "type": "scatter3d",
         "x": [
          2.802079916000366,
          3.8923299312591553
         ],
         "y": [
          2.903179883956909,
          2.96097993850708
         ],
         "z": [
          3.5124399662017822,
          3.6693599224090576
         ]
        },
        {
         "line": {
          "color": "#0000FF"
         },
         "mode": "lines",
         "type": "scatter3d",
         "x": [
          2.303529977798462,
          3.8923299312591553
         ],
         "y": [
          2.922790050506592,
          2.96097993850708
         ],
         "z": [
          4.496140003204346,
          3.6693599224090576
         ]
        },
        {
         "line": {
          "color": "#0000FF"
         },
         "mode": "lines",
         "type": "scatter3d",
         "x": [
          2.4818899631500244,
          3.8923299312591553
         ],
         "y": [
          3.7887001037597656,
          2.96097993850708
         ],
         "z": [
          2.9380300045013428,
          3.6693599224090576
         ]
        },
        {
         "line": {
          "color": "#0000FF"
         },
         "mode": "lines",
         "type": "scatter3d",
         "x": [
          2.802079916000366,
          2.303529977798462
         ],
         "y": [
          2.903179883956909,
          2.922790050506592
         ],
         "z": [
          3.5124399662017822,
          4.496140003204346
         ]
        },
        {
         "line": {
          "color": "#0000FF"
         },
         "mode": "lines",
         "type": "scatter3d",
         "x": [
          3.8923299312591553,
          2.303529977798462
         ],
         "y": [
          2.96097993850708,
          2.922790050506592
         ],
         "z": [
          3.6693599224090576,
          4.496140003204346
         ]
        },
        {
         "line": {
          "color": "#0000FF"
         },
         "mode": "lines",
         "type": "scatter3d",
         "x": [
          2.4818899631500244,
          2.303529977798462
         ],
         "y": [
          3.7887001037597656,
          2.922790050506592
         ],
         "z": [
          2.9380300045013428,
          4.496140003204346
         ]
        },
        {
         "line": {
          "color": "#0000FF"
         },
         "mode": "lines",
         "type": "scatter3d",
         "x": [
          2.802079916000366,
          2.4818899631500244
         ],
         "y": [
          2.903179883956909,
          3.7887001037597656
         ],
         "z": [
          3.5124399662017822,
          2.9380300045013428
         ]
        },
        {
         "line": {
          "color": "#0000FF"
         },
         "mode": "lines",
         "type": "scatter3d",
         "x": [
          3.8923299312591553,
          2.4818899631500244
         ],
         "y": [
          2.96097993850708,
          3.7887001037597656
         ],
         "z": [
          3.6693599224090576,
          2.9380300045013428
         ]
        },
        {
         "line": {
          "color": "#0000FF"
         },
         "mode": "lines",
         "type": "scatter3d",
         "x": [
          2.303529977798462,
          2.4818899631500244
         ],
         "y": [
          2.922790050506592,
          3.7887001037597656
         ],
         "z": [
          4.496140003204346,
          2.9380300045013428
         ]
        },
        {
         "line": {
          "color": "#0000FF"
         },
         "mode": "lines",
         "type": "scatter3d",
         "x": [
          2.510509967803955,
          1.510830044746399
         ],
         "y": [
          1.6964099407196045,
          1.6880600452423096
         ],
         "z": [
          2.744529962539673,
          2.5050599575042725
         ]
        },
        {
         "line": {
          "color": "#0000FF"
         },
         "mode": "lines",
         "type": "scatter3d",
         "x": [
          2.8232100009918213,
          2.3251099586486816
         ],
         "y": [
          0.49230000376701355,
          0.46055999398231506
         ],
         "z": [
          3.5082900524139404,
          4.4918999671936035
         ]
        },
        {
         "line": {
          "color": "#0000FF"
         },
         "mode": "lines",
         "type": "scatter3d",
         "x": [
          2.5185799598693848,
          2.3251099586486816
         ],
         "y": [
          -0.39671000838279724,
          0.46055999398231506
         ],
         "z": [
          2.9308199882507324,
          4.4918999671936035
         ]
        },
        {
         "line": {
          "color": "#0000FF"
         },
         "mode": "lines",
         "type": "scatter3d",
         "x": [
          3.9143099784851074,
          2.3251099586486816
         ],
         "y": [
          0.4530799984931946,
          0.46055999398231506
         ],
         "z": [
          3.6650400161743164,
          4.4918999671936035
         ]
        },
        {
         "line": {
          "color": "#0000FF"
         },
         "mode": "lines",
         "type": "scatter3d",
         "x": [
          2.8232100009918213,
          2.5185799598693848
         ],
         "y": [
          0.49230000376701355,
          -0.39671000838279724
         ],
         "z": [
          3.5082900524139404,
          2.9308199882507324
         ]
        },
        {
         "line": {
          "color": "#0000FF"
         },
         "mode": "lines",
         "type": "scatter3d",
         "x": [
          2.3251099586486816,
          2.5185799598693848
         ],
         "y": [
          0.46055999398231506,
          -0.39671000838279724
         ],
         "z": [
          4.4918999671936035,
          2.9308199882507324
         ]
        },
        {
         "line": {
          "color": "#0000FF"
         },
         "mode": "lines",
         "type": "scatter3d",
         "x": [
          3.9143099784851074,
          2.5185799598693848
         ],
         "y": [
          0.4530799984931946,
          -0.39671000838279724
         ],
         "z": [
          3.6650400161743164,
          2.9308199882507324
         ]
        },
        {
         "line": {
          "color": "#0000FF"
         },
         "mode": "lines",
         "type": "scatter3d",
         "x": [
          2.8232100009918213,
          3.9143099784851074
         ],
         "y": [
          0.49230000376701355,
          0.4530799984931946
         ],
         "z": [
          3.5082900524139404,
          3.6650400161743164
         ]
        },
        {
         "line": {
          "color": "#0000FF"
         },
         "mode": "lines",
         "type": "scatter3d",
         "x": [
          2.3251099586486816,
          3.9143099784851074
         ],
         "y": [
          0.46055999398231506,
          0.4530799984931946
         ],
         "z": [
          4.4918999671936035,
          3.6650400161743164
         ]
        },
        {
         "line": {
          "color": "#0000FF"
         },
         "mode": "lines",
         "type": "scatter3d",
         "x": [
          2.5185799598693848,
          3.9143099784851074
         ],
         "y": [
          -0.39671000838279724,
          0.4530799984931946
         ],
         "z": [
          2.9308199882507324,
          3.6650400161743164
         ]
        },
        {
         "line": {
          "color": "#FF0000"
         },
         "mode": "lines",
         "type": "scatter3d",
         "x": [
          -0.2981700003147125,
          0.8516799807548523
         ],
         "y": [
          0.8991600275039673,
          -0.18118000030517578
         ],
         "z": [
          -0.5680099725723267,
          0.3109000027179718
         ]
        },
        {
         "line": {
          "color": "#FF0000"
         },
         "mode": "lines",
         "type": "scatter3d",
         "x": [
          0.9567999839782715,
          0.8516799807548523
         ],
         "y": [
          -1.1046099662780762,
          -0.18118000030517578
         ],
         "z": [
          -0.2831000089645386,
          0.3109000027179718
         ]
        },
        {
         "line": {
          "color": "#FF0000"
         },
         "mode": "lines",
         "type": "scatter3d",
         "x": [
          0.46998998522758484,
          0.8516799807548523
         ],
         "y": [
          -0.44764000177383423,
          -0.18118000030517578
         ],
         "z": [
          1.31086003780365,
          0.3109000027179718
         ]
        },
        {
         "line": {
          "color": "#FF0000"
         },
         "mode": "lines",
         "type": "scatter3d",
         "x": [
          1.8476699590682983,
          0.8516799807548523
         ],
         "y": [
          0.27869001030921936,
          -0.18118000030517578
         ],
         "z": [
          0.4255400002002716,
          0.3109000027179718
         ]
        },
        {
         "line": {
          "color": "#FF0000"
         },
         "mode": "lines",
         "type": "scatter3d",
         "x": [
          0.8516799807548523,
          -0.2981700003147125
         ],
         "y": [
          -0.18118000030517578,
          0.8991600275039673
         ],
         "z": [
          0.3109000027179718,
          -0.5680099725723267
         ]
        },
        {
         "line": {
          "color": "#FF0000"
         },
         "mode": "lines",
         "type": "scatter3d",
         "x": [
          0.9983599781990051,
          -0.4294300079345703
         ],
         "y": [
          3.488759994506836,
          2.4991800785064697
         ],
         "z": [
          0.19405999779701233,
          0.687969982624054
         ]
        },
        {
         "line": {
          "color": "#FF0000"
         },
         "mode": "lines",
         "type": "scatter3d",
         "x": [
          -0.4294300079345703,
          0.9983599781990051
         ],
         "y": [
          2.4991800785064697,
          3.488759994506836
         ],
         "z": [
          0.687969982624054,
          0.19405999779701233
         ]
        },
        {
         "line": {
          "color": "#FF0000"
         },
         "mode": "lines",
         "type": "scatter3d",
         "x": [
          1.9503300189971924,
          0.9983599781990051
         ],
         "y": [
          2.9602999687194824,
          3.488759994506836
         ],
         "z": [
          0.3703700006008148,
          0.19405999779701233
         ]
        },
        {
         "line": {
          "color": "#FF0000"
         },
         "mode": "lines",
         "type": "scatter3d",
         "x": [
          0.9444100260734558,
          0.9983599781990051
         ],
         "y": [
          3.770550012588501,
          3.488759994506836
         ],
         "z": [
          -0.8709700107574463,
          0.19405999779701233
         ]
        },
        {
         "line": {
          "color": "#FF0000"
         },
         "mode": "lines",
         "type": "scatter3d",
         "x": [
          0.9888299703598022,
          0.9983599781990051
         ],
         "y": [
          4.408820152282715,
          3.488759994506836
         ],
         "z": [
          0.8023399710655212,
          0.19405999779701233
         ]
        },
        {
         "line": {
          "color": "#FF0000"
         },
         "mode": "lines",
         "type": "scatter3d",
         "x": [
          0.8516799807548523,
          0.9567999839782715
         ],
         "y": [
          -0.18118000030517578,
          -1.1046099662780762
         ],
         "z": [
          0.3109000027179718,
          -0.2831000089645386
         ]
        },
        {
         "line": {
          "color": "#FF0000"
         },
         "mode": "lines",
         "type": "scatter3d",
         "x": [
          0.46998998522758484,
          0.9567999839782715
         ],
         "y": [
          -0.44764000177383423,
          -1.1046099662780762
         ],
         "z": [
          1.31086003780365,
          -0.2831000089645386
         ]
        },
        {
         "line": {
          "color": "#FF0000"
         },
         "mode": "lines",
         "type": "scatter3d",
         "x": [
          1.8476699590682983,
          0.9567999839782715
         ],
         "y": [
          0.27869001030921936,
          -1.1046099662780762
         ],
         "z": [
          0.4255400002002716,
          -0.2831000089645386
         ]
        },
        {
         "line": {
          "color": "#FF0000"
         },
         "mode": "lines",
         "type": "scatter3d",
         "x": [
          0.8516799807548523,
          0.46998998522758484
         ],
         "y": [
          -0.18118000030517578,
          -0.44764000177383423
         ],
         "z": [
          0.3109000027179718,
          1.31086003780365
         ]
        },
        {
         "line": {
          "color": "#FF0000"
         },
         "mode": "lines",
         "type": "scatter3d",
         "x": [
          0.9567999839782715,
          0.46998998522758484
         ],
         "y": [
          -1.1046099662780762,
          -0.44764000177383423
         ],
         "z": [
          -0.2831000089645386,
          1.31086003780365
         ]
        },
        {
         "line": {
          "color": "#FF0000"
         },
         "mode": "lines",
         "type": "scatter3d",
         "x": [
          1.8476699590682983,
          0.46998998522758484
         ],
         "y": [
          0.27869001030921936,
          -0.44764000177383423
         ],
         "z": [
          0.4255400002002716,
          1.31086003780365
         ]
        },
        {
         "line": {
          "color": "#FF0000"
         },
         "mode": "lines",
         "type": "scatter3d",
         "x": [
          0.8516799807548523,
          1.8476699590682983
         ],
         "y": [
          -0.18118000030517578,
          0.27869001030921936
         ],
         "z": [
          0.3109000027179718,
          0.4255400002002716
         ]
        },
        {
         "line": {
          "color": "#FF0000"
         },
         "mode": "lines",
         "type": "scatter3d",
         "x": [
          0.9567999839782715,
          1.8476699590682983
         ],
         "y": [
          -1.1046099662780762,
          0.27869001030921936
         ],
         "z": [
          -0.2831000089645386,
          0.4255400002002716
         ]
        },
        {
         "line": {
          "color": "#FF0000"
         },
         "mode": "lines",
         "type": "scatter3d",
         "x": [
          0.46998998522758484,
          1.8476699590682983
         ],
         "y": [
          -0.44764000177383423,
          0.27869001030921936
         ],
         "z": [
          1.31086003780365,
          0.4255400002002716
         ]
        },
        {
         "line": {
          "color": "#FF0000"
         },
         "mode": "lines",
         "type": "scatter3d",
         "x": [
          0.9983599781990051,
          1.9503300189971924
         ],
         "y": [
          3.488759994506836,
          2.9602999687194824
         ],
         "z": [
          0.19405999779701233,
          0.3703700006008148
         ]
        },
        {
         "line": {
          "color": "#FF0000"
         },
         "mode": "lines",
         "type": "scatter3d",
         "x": [
          0.9444100260734558,
          1.9503300189971924
         ],
         "y": [
          3.770550012588501,
          2.9602999687194824
         ],
         "z": [
          -0.8709700107574463,
          0.3703700006008148
         ]
        },
        {
         "line": {
          "color": "#FF0000"
         },
         "mode": "lines",
         "type": "scatter3d",
         "x": [
          0.9888299703598022,
          1.9503300189971924
         ],
         "y": [
          4.408820152282715,
          2.9602999687194824
         ],
         "z": [
          0.8023399710655212,
          0.3703700006008148
         ]
        },
        {
         "line": {
          "color": "#FF0000"
         },
         "mode": "lines",
         "type": "scatter3d",
         "x": [
          0.9983599781990051,
          0.9444100260734558
         ],
         "y": [
          3.488759994506836,
          3.770550012588501
         ],
         "z": [
          0.19405999779701233,
          -0.8709700107574463
         ]
        },
        {
         "line": {
          "color": "#FF0000"
         },
         "mode": "lines",
         "type": "scatter3d",
         "x": [
          1.9503300189971924,
          0.9444100260734558
         ],
         "y": [
          2.9602999687194824,
          3.770550012588501
         ],
         "z": [
          0.3703700006008148,
          -0.8709700107574463
         ]
        },
        {
         "line": {
          "color": "#FF0000"
         },
         "mode": "lines",
         "type": "scatter3d",
         "x": [
          0.9888299703598022,
          0.9444100260734558
         ],
         "y": [
          4.408820152282715,
          3.770550012588501
         ],
         "z": [
          0.8023399710655212,
          -0.8709700107574463
         ]
        },
        {
         "line": {
          "color": "#FF0000"
         },
         "mode": "lines",
         "type": "scatter3d",
         "x": [
          0.9983599781990051,
          0.9888299703598022
         ],
         "y": [
          3.488759994506836,
          4.408820152282715
         ],
         "z": [
          0.19405999779701233,
          0.8023399710655212
         ]
        },
        {
         "line": {
          "color": "#FF0000"
         },
         "mode": "lines",
         "type": "scatter3d",
         "x": [
          1.9503300189971924,
          0.9888299703598022
         ],
         "y": [
          2.9602999687194824,
          4.408820152282715
         ],
         "z": [
          0.3703700006008148,
          0.8023399710655212
         ]
        },
        {
         "line": {
          "color": "#FF0000"
         },
         "mode": "lines",
         "type": "scatter3d",
         "x": [
          0.9444100260734558,
          0.9888299703598022
         ],
         "y": [
          3.770550012588501,
          4.408820152282715
         ],
         "z": [
          -0.8709700107574463,
          0.8023399710655212
         ]
        },
        {
         "line": {
          "color": "#00FF00"
         },
         "mode": "lines",
         "type": "scatter3d",
         "x": [
          2.802079916000366,
          0.8516799807548523
         ],
         "y": [
          2.903179883956909,
          -0.18118000030517578
         ],
         "z": [
          3.5124399662017822,
          0.3109000027179718
         ]
        },
        {
         "line": {
          "color": "#00FF00"
         },
         "mode": "lines",
         "type": "scatter3d",
         "x": [
          2.802079916000366,
          -0.2981700003147125
         ],
         "y": [
          2.903179883956909,
          0.8991600275039673
         ],
         "z": [
          3.5124399662017822,
          -0.5680099725723267
         ]
        },
        {
         "line": {
          "color": "#00FF00"
         },
         "mode": "lines",
         "type": "scatter3d",
         "x": [
          2.802079916000366,
          -0.4294300079345703
         ],
         "y": [
          2.903179883956909,
          2.4991800785064697
         ],
         "z": [
          3.5124399662017822,
          0.687969982624054
         ]
        },
        {
         "line": {
          "color": "#00FF00"
         },
         "mode": "lines",
         "type": "scatter3d",
         "x": [
          2.802079916000366,
          0.9983599781990051
         ],
         "y": [
          2.903179883956909,
          3.488759994506836
         ],
         "z": [
          3.5124399662017822,
          0.19405999779701233
         ]
        },
        {
         "line": {
          "color": "#00FF00"
         },
         "mode": "lines",
         "type": "scatter3d",
         "x": [
          2.802079916000366,
          0.9567999839782715
         ],
         "y": [
          2.903179883956909,
          -1.1046099662780762
         ],
         "z": [
          3.5124399662017822,
          -0.2831000089645386
         ]
        },
        {
         "line": {
          "color": "#00FF00"
         },
         "mode": "lines",
         "type": "scatter3d",
         "x": [
          2.802079916000366,
          0.46998998522758484
         ],
         "y": [
          2.903179883956909,
          -0.44764000177383423
         ],
         "z": [
          3.5124399662017822,
          1.31086003780365
         ]
        },
        {
         "line": {
          "color": "#00FF00"
         },
         "mode": "lines",
         "type": "scatter3d",
         "x": [
          2.802079916000366,
          1.8476699590682983
         ],
         "y": [
          2.903179883956909,
          0.27869001030921936
         ],
         "z": [
          3.5124399662017822,
          0.4255400002002716
         ]
        },
        {
         "line": {
          "color": "#00FF00"
         },
         "mode": "lines",
         "type": "scatter3d",
         "x": [
          2.802079916000366,
          1.9503300189971924
         ],
         "y": [
          2.903179883956909,
          2.9602999687194824
         ],
         "z": [
          3.5124399662017822,
          0.3703700006008148
         ]
        },
        {
         "line": {
          "color": "#00FF00"
         },
         "mode": "lines",
         "type": "scatter3d",
         "x": [
          2.802079916000366,
          0.9444100260734558
         ],
         "y": [
          2.903179883956909,
          3.770550012588501
         ],
         "z": [
          3.5124399662017822,
          -0.8709700107574463
         ]
        },
        {
         "line": {
          "color": "#00FF00"
         },
         "mode": "lines",
         "type": "scatter3d",
         "x": [
          2.802079916000366,
          0.9888299703598022
         ],
         "y": [
          2.903179883956909,
          4.408820152282715
         ],
         "z": [
          3.5124399662017822,
          0.8023399710655212
         ]
        }
       ],
       "layout": {
        "template": {
         "data": {
          "bar": [
           {
            "error_x": {
             "color": "#2a3f5f"
            },
            "error_y": {
             "color": "#2a3f5f"
            },
            "marker": {
             "line": {
              "color": "#E5ECF6",
              "width": 0.5
             },
             "pattern": {
              "fillmode": "overlay",
              "size": 10,
              "solidity": 0.2
             }
            },
            "type": "bar"
           }
          ],
          "barpolar": [
           {
            "marker": {
             "line": {
              "color": "#E5ECF6",
              "width": 0.5
             },
             "pattern": {
              "fillmode": "overlay",
              "size": 10,
              "solidity": 0.2
             }
            },
            "type": "barpolar"
           }
          ],
          "carpet": [
           {
            "aaxis": {
             "endlinecolor": "#2a3f5f",
             "gridcolor": "white",
             "linecolor": "white",
             "minorgridcolor": "white",
             "startlinecolor": "#2a3f5f"
            },
            "baxis": {
             "endlinecolor": "#2a3f5f",
             "gridcolor": "white",
             "linecolor": "white",
             "minorgridcolor": "white",
             "startlinecolor": "#2a3f5f"
            },
            "type": "carpet"
           }
          ],
          "choropleth": [
           {
            "colorbar": {
             "outlinewidth": 0,
             "ticks": ""
            },
            "type": "choropleth"
           }
          ],
          "contour": [
           {
            "colorbar": {
             "outlinewidth": 0,
             "ticks": ""
            },
            "colorscale": [
             [
              0,
              "#0d0887"
             ],
             [
              0.1111111111111111,
              "#46039f"
             ],
             [
              0.2222222222222222,
              "#7201a8"
             ],
             [
              0.3333333333333333,
              "#9c179e"
             ],
             [
              0.4444444444444444,
              "#bd3786"
             ],
             [
              0.5555555555555556,
              "#d8576b"
             ],
             [
              0.6666666666666666,
              "#ed7953"
             ],
             [
              0.7777777777777778,
              "#fb9f3a"
             ],
             [
              0.8888888888888888,
              "#fdca26"
             ],
             [
              1,
              "#f0f921"
             ]
            ],
            "type": "contour"
           }
          ],
          "contourcarpet": [
           {
            "colorbar": {
             "outlinewidth": 0,
             "ticks": ""
            },
            "type": "contourcarpet"
           }
          ],
          "heatmap": [
           {
            "colorbar": {
             "outlinewidth": 0,
             "ticks": ""
            },
            "colorscale": [
             [
              0,
              "#0d0887"
             ],
             [
              0.1111111111111111,
              "#46039f"
             ],
             [
              0.2222222222222222,
              "#7201a8"
             ],
             [
              0.3333333333333333,
              "#9c179e"
             ],
             [
              0.4444444444444444,
              "#bd3786"
             ],
             [
              0.5555555555555556,
              "#d8576b"
             ],
             [
              0.6666666666666666,
              "#ed7953"
             ],
             [
              0.7777777777777778,
              "#fb9f3a"
             ],
             [
              0.8888888888888888,
              "#fdca26"
             ],
             [
              1,
              "#f0f921"
             ]
            ],
            "type": "heatmap"
           }
          ],
          "heatmapgl": [
           {
            "colorbar": {
             "outlinewidth": 0,
             "ticks": ""
            },
            "colorscale": [
             [
              0,
              "#0d0887"
             ],
             [
              0.1111111111111111,
              "#46039f"
             ],
             [
              0.2222222222222222,
              "#7201a8"
             ],
             [
              0.3333333333333333,
              "#9c179e"
             ],
             [
              0.4444444444444444,
              "#bd3786"
             ],
             [
              0.5555555555555556,
              "#d8576b"
             ],
             [
              0.6666666666666666,
              "#ed7953"
             ],
             [
              0.7777777777777778,
              "#fb9f3a"
             ],
             [
              0.8888888888888888,
              "#fdca26"
             ],
             [
              1,
              "#f0f921"
             ]
            ],
            "type": "heatmapgl"
           }
          ],
          "histogram": [
           {
            "marker": {
             "pattern": {
              "fillmode": "overlay",
              "size": 10,
              "solidity": 0.2
             }
            },
            "type": "histogram"
           }
          ],
          "histogram2d": [
           {
            "colorbar": {
             "outlinewidth": 0,
             "ticks": ""
            },
            "colorscale": [
             [
              0,
              "#0d0887"
             ],
             [
              0.1111111111111111,
              "#46039f"
             ],
             [
              0.2222222222222222,
              "#7201a8"
             ],
             [
              0.3333333333333333,
              "#9c179e"
             ],
             [
              0.4444444444444444,
              "#bd3786"
             ],
             [
              0.5555555555555556,
              "#d8576b"
             ],
             [
              0.6666666666666666,
              "#ed7953"
             ],
             [
              0.7777777777777778,
              "#fb9f3a"
             ],
             [
              0.8888888888888888,
              "#fdca26"
             ],
             [
              1,
              "#f0f921"
             ]
            ],
            "type": "histogram2d"
           }
          ],
          "histogram2dcontour": [
           {
            "colorbar": {
             "outlinewidth": 0,
             "ticks": ""
            },
            "colorscale": [
             [
              0,
              "#0d0887"
             ],
             [
              0.1111111111111111,
              "#46039f"
             ],
             [
              0.2222222222222222,
              "#7201a8"
             ],
             [
              0.3333333333333333,
              "#9c179e"
             ],
             [
              0.4444444444444444,
              "#bd3786"
             ],
             [
              0.5555555555555556,
              "#d8576b"
             ],
             [
              0.6666666666666666,
              "#ed7953"
             ],
             [
              0.7777777777777778,
              "#fb9f3a"
             ],
             [
              0.8888888888888888,
              "#fdca26"
             ],
             [
              1,
              "#f0f921"
             ]
            ],
            "type": "histogram2dcontour"
           }
          ],
          "mesh3d": [
           {
            "colorbar": {
             "outlinewidth": 0,
             "ticks": ""
            },
            "type": "mesh3d"
           }
          ],
          "parcoords": [
           {
            "line": {
             "colorbar": {
              "outlinewidth": 0,
              "ticks": ""
             }
            },
            "type": "parcoords"
           }
          ],
          "pie": [
           {
            "automargin": true,
            "type": "pie"
           }
          ],
          "scatter": [
           {
            "fillpattern": {
             "fillmode": "overlay",
             "size": 10,
             "solidity": 0.2
            },
            "type": "scatter"
           }
          ],
          "scatter3d": [
           {
            "line": {
             "colorbar": {
              "outlinewidth": 0,
              "ticks": ""
             }
            },
            "marker": {
             "colorbar": {
              "outlinewidth": 0,
              "ticks": ""
             }
            },
            "type": "scatter3d"
           }
          ],
          "scattercarpet": [
           {
            "marker": {
             "colorbar": {
              "outlinewidth": 0,
              "ticks": ""
             }
            },
            "type": "scattercarpet"
           }
          ],
          "scattergeo": [
           {
            "marker": {
             "colorbar": {
              "outlinewidth": 0,
              "ticks": ""
             }
            },
            "type": "scattergeo"
           }
          ],
          "scattergl": [
           {
            "marker": {
             "colorbar": {
              "outlinewidth": 0,
              "ticks": ""
             }
            },
            "type": "scattergl"
           }
          ],
          "scattermapbox": [
           {
            "marker": {
             "colorbar": {
              "outlinewidth": 0,
              "ticks": ""
             }
            },
            "type": "scattermapbox"
           }
          ],
          "scatterpolar": [
           {
            "marker": {
             "colorbar": {
              "outlinewidth": 0,
              "ticks": ""
             }
            },
            "type": "scatterpolar"
           }
          ],
          "scatterpolargl": [
           {
            "marker": {
             "colorbar": {
              "outlinewidth": 0,
              "ticks": ""
             }
            },
            "type": "scatterpolargl"
           }
          ],
          "scatterternary": [
           {
            "marker": {
             "colorbar": {
              "outlinewidth": 0,
              "ticks": ""
             }
            },
            "type": "scatterternary"
           }
          ],
          "surface": [
           {
            "colorbar": {
             "outlinewidth": 0,
             "ticks": ""
            },
            "colorscale": [
             [
              0,
              "#0d0887"
             ],
             [
              0.1111111111111111,
              "#46039f"
             ],
             [
              0.2222222222222222,
              "#7201a8"
             ],
             [
              0.3333333333333333,
              "#9c179e"
             ],
             [
              0.4444444444444444,
              "#bd3786"
             ],
             [
              0.5555555555555556,
              "#d8576b"
             ],
             [
              0.6666666666666666,
              "#ed7953"
             ],
             [
              0.7777777777777778,
              "#fb9f3a"
             ],
             [
              0.8888888888888888,
              "#fdca26"
             ],
             [
              1,
              "#f0f921"
             ]
            ],
            "type": "surface"
           }
          ],
          "table": [
           {
            "cells": {
             "fill": {
              "color": "#EBF0F8"
             },
             "line": {
              "color": "white"
             }
            },
            "header": {
             "fill": {
              "color": "#C8D4E3"
             },
             "line": {
              "color": "white"
             }
            },
            "type": "table"
           }
          ]
         },
         "layout": {
          "annotationdefaults": {
           "arrowcolor": "#2a3f5f",
           "arrowhead": 0,
           "arrowwidth": 1
          },
          "autotypenumbers": "strict",
          "coloraxis": {
           "colorbar": {
            "outlinewidth": 0,
            "ticks": ""
           }
          },
          "colorscale": {
           "diverging": [
            [
             0,
             "#8e0152"
            ],
            [
             0.1,
             "#c51b7d"
            ],
            [
             0.2,
             "#de77ae"
            ],
            [
             0.3,
             "#f1b6da"
            ],
            [
             0.4,
             "#fde0ef"
            ],
            [
             0.5,
             "#f7f7f7"
            ],
            [
             0.6,
             "#e6f5d0"
            ],
            [
             0.7,
             "#b8e186"
            ],
            [
             0.8,
             "#7fbc41"
            ],
            [
             0.9,
             "#4d9221"
            ],
            [
             1,
             "#276419"
            ]
           ],
           "sequential": [
            [
             0,
             "#0d0887"
            ],
            [
             0.1111111111111111,
             "#46039f"
            ],
            [
             0.2222222222222222,
             "#7201a8"
            ],
            [
             0.3333333333333333,
             "#9c179e"
            ],
            [
             0.4444444444444444,
             "#bd3786"
            ],
            [
             0.5555555555555556,
             "#d8576b"
            ],
            [
             0.6666666666666666,
             "#ed7953"
            ],
            [
             0.7777777777777778,
             "#fb9f3a"
            ],
            [
             0.8888888888888888,
             "#fdca26"
            ],
            [
             1,
             "#f0f921"
            ]
           ],
           "sequentialminus": [
            [
             0,
             "#0d0887"
            ],
            [
             0.1111111111111111,
             "#46039f"
            ],
            [
             0.2222222222222222,
             "#7201a8"
            ],
            [
             0.3333333333333333,
             "#9c179e"
            ],
            [
             0.4444444444444444,
             "#bd3786"
            ],
            [
             0.5555555555555556,
             "#d8576b"
            ],
            [
             0.6666666666666666,
             "#ed7953"
            ],
            [
             0.7777777777777778,
             "#fb9f3a"
            ],
            [
             0.8888888888888888,
             "#fdca26"
            ],
            [
             1,
             "#f0f921"
            ]
           ]
          },
          "colorway": [
           "#636efa",
           "#EF553B",
           "#00cc96",
           "#ab63fa",
           "#FFA15A",
           "#19d3f3",
           "#FF6692",
           "#B6E880",
           "#FF97FF",
           "#FECB52"
          ],
          "font": {
           "color": "#2a3f5f"
          },
          "geo": {
           "bgcolor": "white",
           "lakecolor": "white",
           "landcolor": "#E5ECF6",
           "showlakes": true,
           "showland": true,
           "subunitcolor": "white"
          },
          "hoverlabel": {
           "align": "left"
          },
          "hovermode": "closest",
          "mapbox": {
           "style": "light"
          },
          "paper_bgcolor": "white",
          "plot_bgcolor": "#E5ECF6",
          "polar": {
           "angularaxis": {
            "gridcolor": "white",
            "linecolor": "white",
            "ticks": ""
           },
           "bgcolor": "#E5ECF6",
           "radialaxis": {
            "gridcolor": "white",
            "linecolor": "white",
            "ticks": ""
           }
          },
          "scene": {
           "xaxis": {
            "backgroundcolor": "#E5ECF6",
            "gridcolor": "white",
            "gridwidth": 2,
            "linecolor": "white",
            "showbackground": true,
            "ticks": "",
            "zerolinecolor": "white"
           },
           "yaxis": {
            "backgroundcolor": "#E5ECF6",
            "gridcolor": "white",
            "gridwidth": 2,
            "linecolor": "white",
            "showbackground": true,
            "ticks": "",
            "zerolinecolor": "white"
           },
           "zaxis": {
            "backgroundcolor": "#E5ECF6",
            "gridcolor": "white",
            "gridwidth": 2,
            "linecolor": "white",
            "showbackground": true,
            "ticks": "",
            "zerolinecolor": "white"
           }
          },
          "shapedefaults": {
           "line": {
            "color": "#2a3f5f"
           }
          },
          "ternary": {
           "aaxis": {
            "gridcolor": "white",
            "linecolor": "white",
            "ticks": ""
           },
           "baxis": {
            "gridcolor": "white",
            "linecolor": "white",
            "ticks": ""
           },
           "bgcolor": "#E5ECF6",
           "caxis": {
            "gridcolor": "white",
            "linecolor": "white",
            "ticks": ""
           }
          },
          "title": {
           "x": 0.05
          },
          "xaxis": {
           "automargin": true,
           "gridcolor": "white",
           "linecolor": "white",
           "ticks": "",
           "title": {
            "standoff": 15
           },
           "zerolinecolor": "white",
           "zerolinewidth": 2
          },
          "yaxis": {
           "automargin": true,
           "gridcolor": "white",
           "linecolor": "white",
           "ticks": "",
           "title": {
            "standoff": 15
           },
           "zerolinecolor": "white",
           "zerolinewidth": 2
          }
         }
        }
       }
      },
      "text/html": [
       "<div>                            <div id=\"72eb278d-0f04-4129-8b6a-f1c562de01f4\" class=\"plotly-graph-div\" style=\"height:525px; width:100%;\"></div>            <script type=\"text/javascript\">                require([\"plotly\"], function(Plotly) {                    window.PLOTLYENV=window.PLOTLYENV || {};                                    if (document.getElementById(\"72eb278d-0f04-4129-8b6a-f1c562de01f4\")) {                    Plotly.newPlot(                        \"72eb278d-0f04-4129-8b6a-f1c562de01f4\",                        [{\"marker\":{\"size\":3},\"mode\":\"markers\",\"x\":[2.802079916000366,2.510509967803955,2.8232100009918213,3.8923299312591553,2.303529977798462,2.4818899631500244,1.510830044746399,2.3251099586486816,2.5185799598693848,3.9143099784851074],\"y\":[2.903179883956909,1.6964099407196045,0.49230000376701355,2.96097993850708,2.922790050506592,3.7887001037597656,1.6880600452423096,0.46055999398231506,-0.39671000838279724,0.4530799984931946],\"z\":[3.5124399662017822,2.744529962539673,3.5082900524139404,3.6693599224090576,4.496140003204346,2.9380300045013428,2.5050599575042725,4.4918999671936035,2.9308199882507324,3.6650400161743164],\"type\":\"scatter3d\"},{\"marker\":{\"size\":3},\"mode\":\"markers\",\"x\":[0.8516799807548523,-0.2981700003147125,-0.4294300079345703,0.9983599781990051,0.9567999839782715,0.46998998522758484,1.8476699590682983,1.9503300189971924,0.9444100260734558,0.9888299703598022],\"y\":[-0.18118000030517578,0.8991600275039673,2.4991800785064697,3.488759994506836,-1.1046099662780762,-0.44764000177383423,0.27869001030921936,2.9602999687194824,3.770550012588501,4.408820152282715],\"z\":[0.3109000027179718,-0.5680099725723267,0.687969982624054,0.19405999779701233,-0.2831000089645386,1.31086003780365,0.4255400002002716,0.3703700006008148,-0.8709700107574463,0.8023399710655212],\"type\":\"scatter3d\"},{\"line\":{\"color\":\"#0000FF\"},\"mode\":\"lines\",\"x\":[2.510509967803955,2.802079916000366],\"y\":[1.6964099407196045,2.903179883956909],\"z\":[2.744529962539673,3.5124399662017822],\"type\":\"scatter3d\"},{\"line\":{\"color\":\"#0000FF\"},\"mode\":\"lines\",\"x\":[3.8923299312591553,2.802079916000366],\"y\":[2.96097993850708,2.903179883956909],\"z\":[3.6693599224090576,3.5124399662017822],\"type\":\"scatter3d\"},{\"line\":{\"color\":\"#0000FF\"},\"mode\":\"lines\",\"x\":[2.303529977798462,2.802079916000366],\"y\":[2.922790050506592,2.903179883956909],\"z\":[4.496140003204346,3.5124399662017822],\"type\":\"scatter3d\"},{\"line\":{\"color\":\"#0000FF\"},\"mode\":\"lines\",\"x\":[2.4818899631500244,2.802079916000366],\"y\":[3.7887001037597656,2.903179883956909],\"z\":[2.9380300045013428,3.5124399662017822],\"type\":\"scatter3d\"},{\"line\":{\"color\":\"#0000FF\"},\"mode\":\"lines\",\"x\":[2.802079916000366,2.510509967803955],\"y\":[2.903179883956909,1.6964099407196045],\"z\":[3.5124399662017822,2.744529962539673],\"type\":\"scatter3d\"},{\"line\":{\"color\":\"#0000FF\"},\"mode\":\"lines\",\"x\":[2.8232100009918213,2.510509967803955],\"y\":[0.49230000376701355,1.6964099407196045],\"z\":[3.5082900524139404,2.744529962539673],\"type\":\"scatter3d\"},{\"line\":{\"color\":\"#0000FF\"},\"mode\":\"lines\",\"x\":[1.510830044746399,2.510509967803955],\"y\":[1.6880600452423096,1.6964099407196045],\"z\":[2.5050599575042725,2.744529962539673],\"type\":\"scatter3d\"},{\"line\":{\"color\":\"#0000FF\"},\"mode\":\"lines\",\"x\":[2.510509967803955,2.8232100009918213],\"y\":[1.6964099407196045,0.49230000376701355],\"z\":[2.744529962539673,3.5082900524139404],\"type\":\"scatter3d\"},{\"line\":{\"color\":\"#0000FF\"},\"mode\":\"lines\",\"x\":[2.3251099586486816,2.8232100009918213],\"y\":[0.46055999398231506,0.49230000376701355],\"z\":[4.4918999671936035,3.5082900524139404],\"type\":\"scatter3d\"},{\"line\":{\"color\":\"#0000FF\"},\"mode\":\"lines\",\"x\":[2.5185799598693848,2.8232100009918213],\"y\":[-0.39671000838279724,0.49230000376701355],\"z\":[2.9308199882507324,3.5082900524139404],\"type\":\"scatter3d\"},{\"line\":{\"color\":\"#0000FF\"},\"mode\":\"lines\",\"x\":[3.9143099784851074,2.8232100009918213],\"y\":[0.4530799984931946,0.49230000376701355],\"z\":[3.6650400161743164,3.5082900524139404],\"type\":\"scatter3d\"},{\"line\":{\"color\":\"#0000FF\"},\"mode\":\"lines\",\"x\":[2.802079916000366,3.8923299312591553],\"y\":[2.903179883956909,2.96097993850708],\"z\":[3.5124399662017822,3.6693599224090576],\"type\":\"scatter3d\"},{\"line\":{\"color\":\"#0000FF\"},\"mode\":\"lines\",\"x\":[2.303529977798462,3.8923299312591553],\"y\":[2.922790050506592,2.96097993850708],\"z\":[4.496140003204346,3.6693599224090576],\"type\":\"scatter3d\"},{\"line\":{\"color\":\"#0000FF\"},\"mode\":\"lines\",\"x\":[2.4818899631500244,3.8923299312591553],\"y\":[3.7887001037597656,2.96097993850708],\"z\":[2.9380300045013428,3.6693599224090576],\"type\":\"scatter3d\"},{\"line\":{\"color\":\"#0000FF\"},\"mode\":\"lines\",\"x\":[2.802079916000366,2.303529977798462],\"y\":[2.903179883956909,2.922790050506592],\"z\":[3.5124399662017822,4.496140003204346],\"type\":\"scatter3d\"},{\"line\":{\"color\":\"#0000FF\"},\"mode\":\"lines\",\"x\":[3.8923299312591553,2.303529977798462],\"y\":[2.96097993850708,2.922790050506592],\"z\":[3.6693599224090576,4.496140003204346],\"type\":\"scatter3d\"},{\"line\":{\"color\":\"#0000FF\"},\"mode\":\"lines\",\"x\":[2.4818899631500244,2.303529977798462],\"y\":[3.7887001037597656,2.922790050506592],\"z\":[2.9380300045013428,4.496140003204346],\"type\":\"scatter3d\"},{\"line\":{\"color\":\"#0000FF\"},\"mode\":\"lines\",\"x\":[2.802079916000366,2.4818899631500244],\"y\":[2.903179883956909,3.7887001037597656],\"z\":[3.5124399662017822,2.9380300045013428],\"type\":\"scatter3d\"},{\"line\":{\"color\":\"#0000FF\"},\"mode\":\"lines\",\"x\":[3.8923299312591553,2.4818899631500244],\"y\":[2.96097993850708,3.7887001037597656],\"z\":[3.6693599224090576,2.9380300045013428],\"type\":\"scatter3d\"},{\"line\":{\"color\":\"#0000FF\"},\"mode\":\"lines\",\"x\":[2.303529977798462,2.4818899631500244],\"y\":[2.922790050506592,3.7887001037597656],\"z\":[4.496140003204346,2.9380300045013428],\"type\":\"scatter3d\"},{\"line\":{\"color\":\"#0000FF\"},\"mode\":\"lines\",\"x\":[2.510509967803955,1.510830044746399],\"y\":[1.6964099407196045,1.6880600452423096],\"z\":[2.744529962539673,2.5050599575042725],\"type\":\"scatter3d\"},{\"line\":{\"color\":\"#0000FF\"},\"mode\":\"lines\",\"x\":[2.8232100009918213,2.3251099586486816],\"y\":[0.49230000376701355,0.46055999398231506],\"z\":[3.5082900524139404,4.4918999671936035],\"type\":\"scatter3d\"},{\"line\":{\"color\":\"#0000FF\"},\"mode\":\"lines\",\"x\":[2.5185799598693848,2.3251099586486816],\"y\":[-0.39671000838279724,0.46055999398231506],\"z\":[2.9308199882507324,4.4918999671936035],\"type\":\"scatter3d\"},{\"line\":{\"color\":\"#0000FF\"},\"mode\":\"lines\",\"x\":[3.9143099784851074,2.3251099586486816],\"y\":[0.4530799984931946,0.46055999398231506],\"z\":[3.6650400161743164,4.4918999671936035],\"type\":\"scatter3d\"},{\"line\":{\"color\":\"#0000FF\"},\"mode\":\"lines\",\"x\":[2.8232100009918213,2.5185799598693848],\"y\":[0.49230000376701355,-0.39671000838279724],\"z\":[3.5082900524139404,2.9308199882507324],\"type\":\"scatter3d\"},{\"line\":{\"color\":\"#0000FF\"},\"mode\":\"lines\",\"x\":[2.3251099586486816,2.5185799598693848],\"y\":[0.46055999398231506,-0.39671000838279724],\"z\":[4.4918999671936035,2.9308199882507324],\"type\":\"scatter3d\"},{\"line\":{\"color\":\"#0000FF\"},\"mode\":\"lines\",\"x\":[3.9143099784851074,2.5185799598693848],\"y\":[0.4530799984931946,-0.39671000838279724],\"z\":[3.6650400161743164,2.9308199882507324],\"type\":\"scatter3d\"},{\"line\":{\"color\":\"#0000FF\"},\"mode\":\"lines\",\"x\":[2.8232100009918213,3.9143099784851074],\"y\":[0.49230000376701355,0.4530799984931946],\"z\":[3.5082900524139404,3.6650400161743164],\"type\":\"scatter3d\"},{\"line\":{\"color\":\"#0000FF\"},\"mode\":\"lines\",\"x\":[2.3251099586486816,3.9143099784851074],\"y\":[0.46055999398231506,0.4530799984931946],\"z\":[4.4918999671936035,3.6650400161743164],\"type\":\"scatter3d\"},{\"line\":{\"color\":\"#0000FF\"},\"mode\":\"lines\",\"x\":[2.5185799598693848,3.9143099784851074],\"y\":[-0.39671000838279724,0.4530799984931946],\"z\":[2.9308199882507324,3.6650400161743164],\"type\":\"scatter3d\"},{\"line\":{\"color\":\"#FF0000\"},\"mode\":\"lines\",\"x\":[-0.2981700003147125,0.8516799807548523],\"y\":[0.8991600275039673,-0.18118000030517578],\"z\":[-0.5680099725723267,0.3109000027179718],\"type\":\"scatter3d\"},{\"line\":{\"color\":\"#FF0000\"},\"mode\":\"lines\",\"x\":[0.9567999839782715,0.8516799807548523],\"y\":[-1.1046099662780762,-0.18118000030517578],\"z\":[-0.2831000089645386,0.3109000027179718],\"type\":\"scatter3d\"},{\"line\":{\"color\":\"#FF0000\"},\"mode\":\"lines\",\"x\":[0.46998998522758484,0.8516799807548523],\"y\":[-0.44764000177383423,-0.18118000030517578],\"z\":[1.31086003780365,0.3109000027179718],\"type\":\"scatter3d\"},{\"line\":{\"color\":\"#FF0000\"},\"mode\":\"lines\",\"x\":[1.8476699590682983,0.8516799807548523],\"y\":[0.27869001030921936,-0.18118000030517578],\"z\":[0.4255400002002716,0.3109000027179718],\"type\":\"scatter3d\"},{\"line\":{\"color\":\"#FF0000\"},\"mode\":\"lines\",\"x\":[0.8516799807548523,-0.2981700003147125],\"y\":[-0.18118000030517578,0.8991600275039673],\"z\":[0.3109000027179718,-0.5680099725723267],\"type\":\"scatter3d\"},{\"line\":{\"color\":\"#FF0000\"},\"mode\":\"lines\",\"x\":[0.9983599781990051,-0.4294300079345703],\"y\":[3.488759994506836,2.4991800785064697],\"z\":[0.19405999779701233,0.687969982624054],\"type\":\"scatter3d\"},{\"line\":{\"color\":\"#FF0000\"},\"mode\":\"lines\",\"x\":[-0.4294300079345703,0.9983599781990051],\"y\":[2.4991800785064697,3.488759994506836],\"z\":[0.687969982624054,0.19405999779701233],\"type\":\"scatter3d\"},{\"line\":{\"color\":\"#FF0000\"},\"mode\":\"lines\",\"x\":[1.9503300189971924,0.9983599781990051],\"y\":[2.9602999687194824,3.488759994506836],\"z\":[0.3703700006008148,0.19405999779701233],\"type\":\"scatter3d\"},{\"line\":{\"color\":\"#FF0000\"},\"mode\":\"lines\",\"x\":[0.9444100260734558,0.9983599781990051],\"y\":[3.770550012588501,3.488759994506836],\"z\":[-0.8709700107574463,0.19405999779701233],\"type\":\"scatter3d\"},{\"line\":{\"color\":\"#FF0000\"},\"mode\":\"lines\",\"x\":[0.9888299703598022,0.9983599781990051],\"y\":[4.408820152282715,3.488759994506836],\"z\":[0.8023399710655212,0.19405999779701233],\"type\":\"scatter3d\"},{\"line\":{\"color\":\"#FF0000\"},\"mode\":\"lines\",\"x\":[0.8516799807548523,0.9567999839782715],\"y\":[-0.18118000030517578,-1.1046099662780762],\"z\":[0.3109000027179718,-0.2831000089645386],\"type\":\"scatter3d\"},{\"line\":{\"color\":\"#FF0000\"},\"mode\":\"lines\",\"x\":[0.46998998522758484,0.9567999839782715],\"y\":[-0.44764000177383423,-1.1046099662780762],\"z\":[1.31086003780365,-0.2831000089645386],\"type\":\"scatter3d\"},{\"line\":{\"color\":\"#FF0000\"},\"mode\":\"lines\",\"x\":[1.8476699590682983,0.9567999839782715],\"y\":[0.27869001030921936,-1.1046099662780762],\"z\":[0.4255400002002716,-0.2831000089645386],\"type\":\"scatter3d\"},{\"line\":{\"color\":\"#FF0000\"},\"mode\":\"lines\",\"x\":[0.8516799807548523,0.46998998522758484],\"y\":[-0.18118000030517578,-0.44764000177383423],\"z\":[0.3109000027179718,1.31086003780365],\"type\":\"scatter3d\"},{\"line\":{\"color\":\"#FF0000\"},\"mode\":\"lines\",\"x\":[0.9567999839782715,0.46998998522758484],\"y\":[-1.1046099662780762,-0.44764000177383423],\"z\":[-0.2831000089645386,1.31086003780365],\"type\":\"scatter3d\"},{\"line\":{\"color\":\"#FF0000\"},\"mode\":\"lines\",\"x\":[1.8476699590682983,0.46998998522758484],\"y\":[0.27869001030921936,-0.44764000177383423],\"z\":[0.4255400002002716,1.31086003780365],\"type\":\"scatter3d\"},{\"line\":{\"color\":\"#FF0000\"},\"mode\":\"lines\",\"x\":[0.8516799807548523,1.8476699590682983],\"y\":[-0.18118000030517578,0.27869001030921936],\"z\":[0.3109000027179718,0.4255400002002716],\"type\":\"scatter3d\"},{\"line\":{\"color\":\"#FF0000\"},\"mode\":\"lines\",\"x\":[0.9567999839782715,1.8476699590682983],\"y\":[-1.1046099662780762,0.27869001030921936],\"z\":[-0.2831000089645386,0.4255400002002716],\"type\":\"scatter3d\"},{\"line\":{\"color\":\"#FF0000\"},\"mode\":\"lines\",\"x\":[0.46998998522758484,1.8476699590682983],\"y\":[-0.44764000177383423,0.27869001030921936],\"z\":[1.31086003780365,0.4255400002002716],\"type\":\"scatter3d\"},{\"line\":{\"color\":\"#FF0000\"},\"mode\":\"lines\",\"x\":[0.9983599781990051,1.9503300189971924],\"y\":[3.488759994506836,2.9602999687194824],\"z\":[0.19405999779701233,0.3703700006008148],\"type\":\"scatter3d\"},{\"line\":{\"color\":\"#FF0000\"},\"mode\":\"lines\",\"x\":[0.9444100260734558,1.9503300189971924],\"y\":[3.770550012588501,2.9602999687194824],\"z\":[-0.8709700107574463,0.3703700006008148],\"type\":\"scatter3d\"},{\"line\":{\"color\":\"#FF0000\"},\"mode\":\"lines\",\"x\":[0.9888299703598022,1.9503300189971924],\"y\":[4.408820152282715,2.9602999687194824],\"z\":[0.8023399710655212,0.3703700006008148],\"type\":\"scatter3d\"},{\"line\":{\"color\":\"#FF0000\"},\"mode\":\"lines\",\"x\":[0.9983599781990051,0.9444100260734558],\"y\":[3.488759994506836,3.770550012588501],\"z\":[0.19405999779701233,-0.8709700107574463],\"type\":\"scatter3d\"},{\"line\":{\"color\":\"#FF0000\"},\"mode\":\"lines\",\"x\":[1.9503300189971924,0.9444100260734558],\"y\":[2.9602999687194824,3.770550012588501],\"z\":[0.3703700006008148,-0.8709700107574463],\"type\":\"scatter3d\"},{\"line\":{\"color\":\"#FF0000\"},\"mode\":\"lines\",\"x\":[0.9888299703598022,0.9444100260734558],\"y\":[4.408820152282715,3.770550012588501],\"z\":[0.8023399710655212,-0.8709700107574463],\"type\":\"scatter3d\"},{\"line\":{\"color\":\"#FF0000\"},\"mode\":\"lines\",\"x\":[0.9983599781990051,0.9888299703598022],\"y\":[3.488759994506836,4.408820152282715],\"z\":[0.19405999779701233,0.8023399710655212],\"type\":\"scatter3d\"},{\"line\":{\"color\":\"#FF0000\"},\"mode\":\"lines\",\"x\":[1.9503300189971924,0.9888299703598022],\"y\":[2.9602999687194824,4.408820152282715],\"z\":[0.3703700006008148,0.8023399710655212],\"type\":\"scatter3d\"},{\"line\":{\"color\":\"#FF0000\"},\"mode\":\"lines\",\"x\":[0.9444100260734558,0.9888299703598022],\"y\":[3.770550012588501,4.408820152282715],\"z\":[-0.8709700107574463,0.8023399710655212],\"type\":\"scatter3d\"},{\"line\":{\"color\":\"#00FF00\"},\"mode\":\"lines\",\"x\":[2.802079916000366,0.8516799807548523],\"y\":[2.903179883956909,-0.18118000030517578],\"z\":[3.5124399662017822,0.3109000027179718],\"type\":\"scatter3d\"},{\"line\":{\"color\":\"#00FF00\"},\"mode\":\"lines\",\"x\":[2.802079916000366,-0.2981700003147125],\"y\":[2.903179883956909,0.8991600275039673],\"z\":[3.5124399662017822,-0.5680099725723267],\"type\":\"scatter3d\"},{\"line\":{\"color\":\"#00FF00\"},\"mode\":\"lines\",\"x\":[2.802079916000366,-0.4294300079345703],\"y\":[2.903179883956909,2.4991800785064697],\"z\":[3.5124399662017822,0.687969982624054],\"type\":\"scatter3d\"},{\"line\":{\"color\":\"#00FF00\"},\"mode\":\"lines\",\"x\":[2.802079916000366,0.9983599781990051],\"y\":[2.903179883956909,3.488759994506836],\"z\":[3.5124399662017822,0.19405999779701233],\"type\":\"scatter3d\"},{\"line\":{\"color\":\"#00FF00\"},\"mode\":\"lines\",\"x\":[2.802079916000366,0.9567999839782715],\"y\":[2.903179883956909,-1.1046099662780762],\"z\":[3.5124399662017822,-0.2831000089645386],\"type\":\"scatter3d\"},{\"line\":{\"color\":\"#00FF00\"},\"mode\":\"lines\",\"x\":[2.802079916000366,0.46998998522758484],\"y\":[2.903179883956909,-0.44764000177383423],\"z\":[3.5124399662017822,1.31086003780365],\"type\":\"scatter3d\"},{\"line\":{\"color\":\"#00FF00\"},\"mode\":\"lines\",\"x\":[2.802079916000366,1.8476699590682983],\"y\":[2.903179883956909,0.27869001030921936],\"z\":[3.5124399662017822,0.4255400002002716],\"type\":\"scatter3d\"},{\"line\":{\"color\":\"#00FF00\"},\"mode\":\"lines\",\"x\":[2.802079916000366,1.9503300189971924],\"y\":[2.903179883956909,2.9602999687194824],\"z\":[3.5124399662017822,0.3703700006008148],\"type\":\"scatter3d\"},{\"line\":{\"color\":\"#00FF00\"},\"mode\":\"lines\",\"x\":[2.802079916000366,0.9444100260734558],\"y\":[2.903179883956909,3.770550012588501],\"z\":[3.5124399662017822,-0.8709700107574463],\"type\":\"scatter3d\"},{\"line\":{\"color\":\"#00FF00\"},\"mode\":\"lines\",\"x\":[2.802079916000366,0.9888299703598022],\"y\":[2.903179883956909,4.408820152282715],\"z\":[3.5124399662017822,0.8023399710655212],\"type\":\"scatter3d\"}],                        {\"template\":{\"data\":{\"histogram2dcontour\":[{\"type\":\"histogram2dcontour\",\"colorbar\":{\"outlinewidth\":0,\"ticks\":\"\"},\"colorscale\":[[0.0,\"#0d0887\"],[0.1111111111111111,\"#46039f\"],[0.2222222222222222,\"#7201a8\"],[0.3333333333333333,\"#9c179e\"],[0.4444444444444444,\"#bd3786\"],[0.5555555555555556,\"#d8576b\"],[0.6666666666666666,\"#ed7953\"],[0.7777777777777778,\"#fb9f3a\"],[0.8888888888888888,\"#fdca26\"],[1.0,\"#f0f921\"]]}],\"choropleth\":[{\"type\":\"choropleth\",\"colorbar\":{\"outlinewidth\":0,\"ticks\":\"\"}}],\"histogram2d\":[{\"type\":\"histogram2d\",\"colorbar\":{\"outlinewidth\":0,\"ticks\":\"\"},\"colorscale\":[[0.0,\"#0d0887\"],[0.1111111111111111,\"#46039f\"],[0.2222222222222222,\"#7201a8\"],[0.3333333333333333,\"#9c179e\"],[0.4444444444444444,\"#bd3786\"],[0.5555555555555556,\"#d8576b\"],[0.6666666666666666,\"#ed7953\"],[0.7777777777777778,\"#fb9f3a\"],[0.8888888888888888,\"#fdca26\"],[1.0,\"#f0f921\"]]}],\"heatmap\":[{\"type\":\"heatmap\",\"colorbar\":{\"outlinewidth\":0,\"ticks\":\"\"},\"colorscale\":[[0.0,\"#0d0887\"],[0.1111111111111111,\"#46039f\"],[0.2222222222222222,\"#7201a8\"],[0.3333333333333333,\"#9c179e\"],[0.4444444444444444,\"#bd3786\"],[0.5555555555555556,\"#d8576b\"],[0.6666666666666666,\"#ed7953\"],[0.7777777777777778,\"#fb9f3a\"],[0.8888888888888888,\"#fdca26\"],[1.0,\"#f0f921\"]]}],\"heatmapgl\":[{\"type\":\"heatmapgl\",\"colorbar\":{\"outlinewidth\":0,\"ticks\":\"\"},\"colorscale\":[[0.0,\"#0d0887\"],[0.1111111111111111,\"#46039f\"],[0.2222222222222222,\"#7201a8\"],[0.3333333333333333,\"#9c179e\"],[0.4444444444444444,\"#bd3786\"],[0.5555555555555556,\"#d8576b\"],[0.6666666666666666,\"#ed7953\"],[0.7777777777777778,\"#fb9f3a\"],[0.8888888888888888,\"#fdca26\"],[1.0,\"#f0f921\"]]}],\"contourcarpet\":[{\"type\":\"contourcarpet\",\"colorbar\":{\"outlinewidth\":0,\"ticks\":\"\"}}],\"contour\":[{\"type\":\"contour\",\"colorbar\":{\"outlinewidth\":0,\"ticks\":\"\"},\"colorscale\":[[0.0,\"#0d0887\"],[0.1111111111111111,\"#46039f\"],[0.2222222222222222,\"#7201a8\"],[0.3333333333333333,\"#9c179e\"],[0.4444444444444444,\"#bd3786\"],[0.5555555555555556,\"#d8576b\"],[0.6666666666666666,\"#ed7953\"],[0.7777777777777778,\"#fb9f3a\"],[0.8888888888888888,\"#fdca26\"],[1.0,\"#f0f921\"]]}],\"surface\":[{\"type\":\"surface\",\"colorbar\":{\"outlinewidth\":0,\"ticks\":\"\"},\"colorscale\":[[0.0,\"#0d0887\"],[0.1111111111111111,\"#46039f\"],[0.2222222222222222,\"#7201a8\"],[0.3333333333333333,\"#9c179e\"],[0.4444444444444444,\"#bd3786\"],[0.5555555555555556,\"#d8576b\"],[0.6666666666666666,\"#ed7953\"],[0.7777777777777778,\"#fb9f3a\"],[0.8888888888888888,\"#fdca26\"],[1.0,\"#f0f921\"]]}],\"mesh3d\":[{\"type\":\"mesh3d\",\"colorbar\":{\"outlinewidth\":0,\"ticks\":\"\"}}],\"scatter\":[{\"fillpattern\":{\"fillmode\":\"overlay\",\"size\":10,\"solidity\":0.2},\"type\":\"scatter\"}],\"parcoords\":[{\"type\":\"parcoords\",\"line\":{\"colorbar\":{\"outlinewidth\":0,\"ticks\":\"\"}}}],\"scatterpolargl\":[{\"type\":\"scatterpolargl\",\"marker\":{\"colorbar\":{\"outlinewidth\":0,\"ticks\":\"\"}}}],\"bar\":[{\"error_x\":{\"color\":\"#2a3f5f\"},\"error_y\":{\"color\":\"#2a3f5f\"},\"marker\":{\"line\":{\"color\":\"#E5ECF6\",\"width\":0.5},\"pattern\":{\"fillmode\":\"overlay\",\"size\":10,\"solidity\":0.2}},\"type\":\"bar\"}],\"scattergeo\":[{\"type\":\"scattergeo\",\"marker\":{\"colorbar\":{\"outlinewidth\":0,\"ticks\":\"\"}}}],\"scatterpolar\":[{\"type\":\"scatterpolar\",\"marker\":{\"colorbar\":{\"outlinewidth\":0,\"ticks\":\"\"}}}],\"histogram\":[{\"marker\":{\"pattern\":{\"fillmode\":\"overlay\",\"size\":10,\"solidity\":0.2}},\"type\":\"histogram\"}],\"scattergl\":[{\"type\":\"scattergl\",\"marker\":{\"colorbar\":{\"outlinewidth\":0,\"ticks\":\"\"}}}],\"scatter3d\":[{\"type\":\"scatter3d\",\"line\":{\"colorbar\":{\"outlinewidth\":0,\"ticks\":\"\"}},\"marker\":{\"colorbar\":{\"outlinewidth\":0,\"ticks\":\"\"}}}],\"scattermapbox\":[{\"type\":\"scattermapbox\",\"marker\":{\"colorbar\":{\"outlinewidth\":0,\"ticks\":\"\"}}}],\"scatterternary\":[{\"type\":\"scatterternary\",\"marker\":{\"colorbar\":{\"outlinewidth\":0,\"ticks\":\"\"}}}],\"scattercarpet\":[{\"type\":\"scattercarpet\",\"marker\":{\"colorbar\":{\"outlinewidth\":0,\"ticks\":\"\"}}}],\"carpet\":[{\"aaxis\":{\"endlinecolor\":\"#2a3f5f\",\"gridcolor\":\"white\",\"linecolor\":\"white\",\"minorgridcolor\":\"white\",\"startlinecolor\":\"#2a3f5f\"},\"baxis\":{\"endlinecolor\":\"#2a3f5f\",\"gridcolor\":\"white\",\"linecolor\":\"white\",\"minorgridcolor\":\"white\",\"startlinecolor\":\"#2a3f5f\"},\"type\":\"carpet\"}],\"table\":[{\"cells\":{\"fill\":{\"color\":\"#EBF0F8\"},\"line\":{\"color\":\"white\"}},\"header\":{\"fill\":{\"color\":\"#C8D4E3\"},\"line\":{\"color\":\"white\"}},\"type\":\"table\"}],\"barpolar\":[{\"marker\":{\"line\":{\"color\":\"#E5ECF6\",\"width\":0.5},\"pattern\":{\"fillmode\":\"overlay\",\"size\":10,\"solidity\":0.2}},\"type\":\"barpolar\"}],\"pie\":[{\"automargin\":true,\"type\":\"pie\"}]},\"layout\":{\"autotypenumbers\":\"strict\",\"colorway\":[\"#636efa\",\"#EF553B\",\"#00cc96\",\"#ab63fa\",\"#FFA15A\",\"#19d3f3\",\"#FF6692\",\"#B6E880\",\"#FF97FF\",\"#FECB52\"],\"font\":{\"color\":\"#2a3f5f\"},\"hovermode\":\"closest\",\"hoverlabel\":{\"align\":\"left\"},\"paper_bgcolor\":\"white\",\"plot_bgcolor\":\"#E5ECF6\",\"polar\":{\"bgcolor\":\"#E5ECF6\",\"angularaxis\":{\"gridcolor\":\"white\",\"linecolor\":\"white\",\"ticks\":\"\"},\"radialaxis\":{\"gridcolor\":\"white\",\"linecolor\":\"white\",\"ticks\":\"\"}},\"ternary\":{\"bgcolor\":\"#E5ECF6\",\"aaxis\":{\"gridcolor\":\"white\",\"linecolor\":\"white\",\"ticks\":\"\"},\"baxis\":{\"gridcolor\":\"white\",\"linecolor\":\"white\",\"ticks\":\"\"},\"caxis\":{\"gridcolor\":\"white\",\"linecolor\":\"white\",\"ticks\":\"\"}},\"coloraxis\":{\"colorbar\":{\"outlinewidth\":0,\"ticks\":\"\"}},\"colorscale\":{\"sequential\":[[0.0,\"#0d0887\"],[0.1111111111111111,\"#46039f\"],[0.2222222222222222,\"#7201a8\"],[0.3333333333333333,\"#9c179e\"],[0.4444444444444444,\"#bd3786\"],[0.5555555555555556,\"#d8576b\"],[0.6666666666666666,\"#ed7953\"],[0.7777777777777778,\"#fb9f3a\"],[0.8888888888888888,\"#fdca26\"],[1.0,\"#f0f921\"]],\"sequentialminus\":[[0.0,\"#0d0887\"],[0.1111111111111111,\"#46039f\"],[0.2222222222222222,\"#7201a8\"],[0.3333333333333333,\"#9c179e\"],[0.4444444444444444,\"#bd3786\"],[0.5555555555555556,\"#d8576b\"],[0.6666666666666666,\"#ed7953\"],[0.7777777777777778,\"#fb9f3a\"],[0.8888888888888888,\"#fdca26\"],[1.0,\"#f0f921\"]],\"diverging\":[[0,\"#8e0152\"],[0.1,\"#c51b7d\"],[0.2,\"#de77ae\"],[0.3,\"#f1b6da\"],[0.4,\"#fde0ef\"],[0.5,\"#f7f7f7\"],[0.6,\"#e6f5d0\"],[0.7,\"#b8e186\"],[0.8,\"#7fbc41\"],[0.9,\"#4d9221\"],[1,\"#276419\"]]},\"xaxis\":{\"gridcolor\":\"white\",\"linecolor\":\"white\",\"ticks\":\"\",\"title\":{\"standoff\":15},\"zerolinecolor\":\"white\",\"automargin\":true,\"zerolinewidth\":2},\"yaxis\":{\"gridcolor\":\"white\",\"linecolor\":\"white\",\"ticks\":\"\",\"title\":{\"standoff\":15},\"zerolinecolor\":\"white\",\"automargin\":true,\"zerolinewidth\":2},\"scene\":{\"xaxis\":{\"backgroundcolor\":\"#E5ECF6\",\"gridcolor\":\"white\",\"linecolor\":\"white\",\"showbackground\":true,\"ticks\":\"\",\"zerolinecolor\":\"white\",\"gridwidth\":2},\"yaxis\":{\"backgroundcolor\":\"#E5ECF6\",\"gridcolor\":\"white\",\"linecolor\":\"white\",\"showbackground\":true,\"ticks\":\"\",\"zerolinecolor\":\"white\",\"gridwidth\":2},\"zaxis\":{\"backgroundcolor\":\"#E5ECF6\",\"gridcolor\":\"white\",\"linecolor\":\"white\",\"showbackground\":true,\"ticks\":\"\",\"zerolinecolor\":\"white\",\"gridwidth\":2}},\"shapedefaults\":{\"line\":{\"color\":\"#2a3f5f\"}},\"annotationdefaults\":{\"arrowcolor\":\"#2a3f5f\",\"arrowhead\":0,\"arrowwidth\":1},\"geo\":{\"bgcolor\":\"white\",\"landcolor\":\"#E5ECF6\",\"subunitcolor\":\"white\",\"showland\":true,\"showlakes\":true,\"lakecolor\":\"white\"},\"title\":{\"x\":0.05},\"mapbox\":{\"style\":\"light\"}}}},                        {\"responsive\": true}                    ).then(function(){\n",
       "                            \n",
       "var gd = document.getElementById('72eb278d-0f04-4129-8b6a-f1c562de01f4');\n",
       "var x = new MutationObserver(function (mutations, observer) {{\n",
       "        var display = window.getComputedStyle(gd).display;\n",
       "        if (!display || display === 'none') {{\n",
       "            console.log([gd, 'removed!']);\n",
       "            Plotly.purge(gd);\n",
       "            observer.disconnect();\n",
       "        }}\n",
       "}});\n",
       "\n",
       "// Listen for the removal of the full notebook cells\n",
       "var notebookContainer = gd.closest('#notebook-container');\n",
       "if (notebookContainer) {{\n",
       "    x.observe(notebookContainer, {childList: true});\n",
       "}}\n",
       "\n",
       "// Listen for the clearing of the current output cell\n",
       "var outputEl = gd.closest('.output');\n",
       "if (outputEl) {{\n",
       "    x.observe(outputEl, {childList: true});\n",
       "}}\n",
       "\n",
       "                        })                };                });            </script>        </div>"
      ]
     },
     "metadata": {},
     "output_type": "display_data"
    }
   ],
   "source": [
    "# TODO n_neighbor is functioning wrong in DimerGraph\n",
    "idx = np.random.randint(len(infer_dataset))\n",
    "data = infer_dataset[idx]\n",
    "DimerGraphObject(data).show()"
   ]
  }
 ],
 "metadata": {
  "kernelspec": {
   "display_name": "torch",
   "language": "python",
   "name": "python3"
  },
  "language_info": {
   "codemirror_mode": {
    "name": "ipython",
    "version": 3
   },
   "file_extension": ".py",
   "mimetype": "text/x-python",
   "name": "python",
   "nbconvert_exporter": "python",
   "pygments_lexer": "ipython3",
   "version": "3.9.19"
  }
 },
 "nbformat": 4,
 "nbformat_minor": 2
}
