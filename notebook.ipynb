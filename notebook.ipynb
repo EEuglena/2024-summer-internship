{
 "cells": [
  {
   "cell_type": "code",
   "execution_count": 1,
   "metadata": {},
   "outputs": [],
   "source": [
    "import torch\n",
    "import e3nn\n",
    "from torch_cluster import radius_graph\n",
    "from torch_scatter import scatter"
   ]
  },
  {
   "cell_type": "code",
   "execution_count": 2,
   "metadata": {},
   "outputs": [],
   "source": [
    "MAX_Z = 10\n",
    "N_ATOMS = 4\n",
    "DIM_ATOMS = 12\n",
    "ATOM_IRREPS = e3nn.o3.Irreps(f\"{DIM_ATOMS}x0e\")\n",
    "R_CUT = 2.0\n",
    "DIM_R = 1\n",
    "R_IRREPS = e3nn.o3.Irreps(f\"{DIM_R}x0e\")\n",
    "SH_IRREPS = e3nn.o3.Irreps.spherical_harmonics(2)\n",
    "FEATURE_IRREPS = R_IRREPS + SH_IRREPS\n",
    "DIM_INPUT = 9\n",
    "DIM_OUTPUT = 30\n",
    "N_INTERACTIONS = 3"
   ]
  },
  {
   "cell_type": "code",
   "execution_count": 3,
   "metadata": {},
   "outputs": [
    {
     "data": {
      "text/plain": [
       "tensor([6, 8, 9, 6])"
      ]
     },
     "execution_count": 3,
     "metadata": {},
     "output_type": "execute_result"
    }
   ],
   "source": [
    "z = torch.randint(1, MAX_Z, (N_ATOMS,))\n",
    "z"
   ]
  },
  {
   "cell_type": "code",
   "execution_count": 4,
   "metadata": {},
   "outputs": [
    {
     "data": {
      "text/plain": [
       "tensor([[0., 0., 0., 0., 0., 0., 1., 0., 0., 0.],\n",
       "        [0., 0., 0., 0., 0., 0., 0., 0., 1., 0.],\n",
       "        [0., 0., 0., 0., 0., 0., 0., 0., 0., 1.],\n",
       "        [0., 0., 0., 0., 0., 0., 1., 0., 0., 0.]])"
      ]
     },
     "execution_count": 4,
     "metadata": {},
     "output_type": "execute_result"
    }
   ],
   "source": [
    "one_hot = torch.nn.functional.one_hot(z, MAX_Z).float()\n",
    "one_hot"
   ]
  },
  {
   "cell_type": "code",
   "execution_count": 5,
   "metadata": {},
   "outputs": [
    {
     "data": {
      "text/plain": [
       "tensor([[-0.0770,  0.3873,  0.0529, -0.2166, -0.1137,  0.0419,  0.0978, -0.2285,\n",
       "         -0.0447,  0.1377, -0.0778, -0.0754],\n",
       "        [-0.1061,  0.3869,  0.0288, -0.1677, -0.2974, -0.0076, -0.1399, -0.2070,\n",
       "         -0.1173, -0.2545, -0.5210,  0.0836],\n",
       "        [-0.0951, -0.0466, -0.4967, -0.2758, -0.1829, -0.0439,  0.0979, -0.3595,\n",
       "         -0.1889, -0.1096, -0.1910,  0.3734],\n",
       "        [-0.0770,  0.3873,  0.0529, -0.2166, -0.1137,  0.0419,  0.0978, -0.2285,\n",
       "         -0.0447,  0.1377, -0.0778, -0.0754]], grad_fn=<AddmmBackward0>)"
      ]
     },
     "execution_count": 5,
     "metadata": {},
     "output_type": "execute_result"
    }
   ],
   "source": [
    "atom_filter = torch.nn.Linear(MAX_Z, DIM_ATOMS)\n",
    "x = atom_filter(one_hot)\n",
    "x"
   ]
  },
  {
   "cell_type": "code",
   "execution_count": 6,
   "metadata": {},
   "outputs": [
    {
     "data": {
      "text/plain": [
       "tensor([[ 1.9915,  0.2242, -0.6689],\n",
       "        [ 0.2612,  0.1146, -0.6114],\n",
       "        [ 1.0665, -0.5098,  1.6085],\n",
       "        [-0.8244,  1.0469,  0.0753]])"
      ]
     },
     "execution_count": 6,
     "metadata": {},
     "output_type": "execute_result"
    }
   ],
   "source": [
    "pos = torch.randn([N_ATOMS, 3])\n",
    "pos"
   ]
  },
  {
   "cell_type": "code",
   "execution_count": 7,
   "metadata": {},
   "outputs": [
    {
     "data": {
      "text/plain": [
       "(tensor([1, 0, 3, 1]), tensor([0, 1, 1, 3]))"
      ]
     },
     "execution_count": 7,
     "metadata": {},
     "output_type": "execute_result"
    }
   ],
   "source": [
    "src, dst = radius_graph(pos, R_CUT)\n",
    "src, dst"
   ]
  },
  {
   "cell_type": "code",
   "execution_count": 32,
   "metadata": {},
   "outputs": [
    {
     "data": {
      "text/plain": [
       "tensor([[-1.7304, -0.1096,  0.0575],\n",
       "        [ 1.7304,  0.1096, -0.0575],\n",
       "        [-1.0855,  0.9323,  0.6868],\n",
       "        [ 1.0855, -0.9323, -0.6868]])"
      ]
     },
     "execution_count": 32,
     "metadata": {},
     "output_type": "execute_result"
    }
   ],
   "source": [
    "edges = pos[src] - pos[dst]\n",
    "edges"
   ]
  },
  {
   "cell_type": "code",
   "execution_count": 9,
   "metadata": {},
   "outputs": [
    {
     "data": {
      "text/plain": [
       "tensor([1.7348, 1.7348, 1.5872, 1.5872])"
      ]
     },
     "execution_count": 9,
     "metadata": {},
     "output_type": "execute_result"
    }
   ],
   "source": [
    "r = edges.norm(dim=-1)\n",
    "r"
   ]
  },
  {
   "cell_type": "code",
   "execution_count": 10,
   "metadata": {},
   "outputs": [
    {
     "data": {
      "text/plain": [
       "(tensor([[ 1.0000, -1.7276, -0.1094,  0.0574, -0.1280,  0.2441, -1.1046, -0.0081,\n",
       "          -1.9245],\n",
       "         [ 1.0000,  1.7276,  0.1094, -0.0574, -0.1280,  0.2441, -1.1046, -0.0081,\n",
       "          -1.9245],\n",
       "         [ 1.0000, -1.1846,  1.0174,  0.7495, -1.1462, -1.5559,  0.0392,  0.9843,\n",
       "          -0.5433],\n",
       "         [ 1.0000,  1.1846, -1.0174, -0.7495, -1.1462, -1.5559,  0.0392,  0.9843,\n",
       "          -0.5433]]),\n",
       " torch.Size([4, 9]))"
      ]
     },
     "execution_count": 10,
     "metadata": {},
     "output_type": "execute_result"
    }
   ],
   "source": [
    "sh = e3nn.o3.spherical_harmonics(SH_IRREPS, edges, normalize=True, normalization=\"component\")\n",
    "sh, sh.shape\n"
   ]
  },
  {
   "cell_type": "code",
   "execution_count": 11,
   "metadata": {},
   "outputs": [
    {
     "data": {
      "text/plain": [
       "tensor([[ 0.5539,  0.5101, -0.6580],\n",
       "        [-0.8325,  0.3490, -0.4302],\n",
       "        [ 0.0102,  0.7861,  0.6180]])"
      ]
     },
     "execution_count": 11,
     "metadata": {},
     "output_type": "execute_result"
    }
   ],
   "source": [
    "rot = e3nn.o3.rand_matrix()\n",
    "rot"
   ]
  },
  {
   "cell_type": "code",
   "execution_count": 12,
   "metadata": {},
   "outputs": [
    {
     "data": {
      "text/plain": [
       "tensor([[ 1.0000,  0.0000,  0.0000,  0.0000,  0.0000,  0.0000,  0.0000,  0.0000,\n",
       "          0.0000],\n",
       "        [ 0.0000,  0.5539,  0.5101, -0.6580,  0.0000,  0.0000,  0.0000,  0.0000,\n",
       "          0.0000],\n",
       "        [ 0.0000, -0.8325,  0.3490, -0.4302,  0.0000,  0.0000,  0.0000,  0.0000,\n",
       "          0.0000],\n",
       "        [ 0.0000,  0.0102,  0.7861,  0.6180,  0.0000,  0.0000,  0.0000,  0.0000,\n",
       "          0.0000],\n",
       "        [ 0.0000,  0.0000,  0.0000,  0.0000,  0.3356,  0.4406,  0.6946, -0.2020,\n",
       "         -0.4123],\n",
       "        [ 0.0000,  0.0000,  0.0000,  0.0000,  0.3095, -0.2314,  0.3084, -0.4491,\n",
       "          0.7442],\n",
       "        [ 0.0000,  0.0000,  0.0000,  0.0000,  0.6203, -0.5033, -0.3173, -0.2601,\n",
       "         -0.4400],\n",
       "        [ 0.0000,  0.0000,  0.0000,  0.0000, -0.5189, -0.6509,  0.4752, -0.1225,\n",
       "         -0.2574],\n",
       "        [ 0.0000,  0.0000,  0.0000,  0.0000,  0.3708, -0.2745,  0.3098,  0.8215,\n",
       "          0.1278]])"
      ]
     },
     "execution_count": 12,
     "metadata": {},
     "output_type": "execute_result"
    }
   ],
   "source": [
    "sh_rot = SH_IRREPS.D_from_matrix(rot)\n",
    "sh_rot"
   ]
  },
  {
   "cell_type": "code",
   "execution_count": 13,
   "metadata": {},
   "outputs": [
    {
     "data": {
      "text/plain": [
       "tensor([[ 1.7348,  1.0000, -1.7276, -0.1094,  0.0574, -0.1280,  0.2441, -1.1046,\n",
       "         -0.0081, -1.9245],\n",
       "        [ 1.7348,  1.0000,  1.7276,  0.1094, -0.0574, -0.1280,  0.2441, -1.1046,\n",
       "         -0.0081, -1.9245],\n",
       "        [ 1.5872,  1.0000, -1.1846,  1.0174,  0.7495, -1.1462, -1.5559,  0.0392,\n",
       "          0.9843, -0.5433],\n",
       "        [ 1.5872,  1.0000,  1.1846, -1.0174, -0.7495, -1.1462, -1.5559,  0.0392,\n",
       "          0.9843, -0.5433]])"
      ]
     },
     "execution_count": 13,
     "metadata": {},
     "output_type": "execute_result"
    }
   ],
   "source": [
    "edge_features = torch.cat((r.unsqueeze(-1), sh), dim=-1)\n",
    "edge_features"
   ]
  },
  {
   "cell_type": "code",
   "execution_count": 14,
   "metadata": {},
   "outputs": [],
   "source": [
    "data = {'pos': pos,\n",
    "        'z': z,\n",
    "        'x': x,\n",
    "        'src': src,\n",
    "        'dst': dst,\n",
    "        'r': r,\n",
    "        'sh': sh,\n",
    "        'edge_features': edge_features,\n",
    "}"
   ]
  },
  {
   "cell_type": "code",
   "execution_count": 15,
   "metadata": {},
   "outputs": [],
   "source": [
    "class InteractionLayer(torch.nn.Module):\n",
    "    def __init__(self, irreps_feature, irreps_atom, irreps_mid):\n",
    "        super().__init__()\n",
    "        self.tp1 = e3nn.o3.FullyConnectedTensorProduct(irreps_feature, irreps_feature, irreps_mid)\n",
    "        self.tp2 = e3nn.o3.FullyConnectedTensorProduct(irreps_atom, irreps_mid, irreps_atom)\n",
    "\n",
    "    def forward(self, data):\n",
    "        mid1 = self.tp1(data['edge_features'], data['edge_features'])\n",
    "        mid2 = self.tp2(data['x'][data['dst']], mid1)\n",
    "        out = scatter(mid2, data['src'], dim=0, out=torch.zeros_like(data['y']))\n",
    "        data['y'] = data['y'] + out\n",
    "        return data"
   ]
  },
  {
   "cell_type": "code",
   "execution_count": 29,
   "metadata": {},
   "outputs": [],
   "source": [
    "class ReadoutLayer(torch.nn.Module):\n",
    "    def __init__(self, dim_atoms, dim_mid):\n",
    "        super().__init__()\n",
    "        self.layer1 = torch.nn.Linear(dim_atoms, dim_mid)\n",
    "        self.layer2 = torch.nn.Linear(dim_mid, 1)\n",
    "\n",
    "    def forward(self, data):\n",
    "        out = self.layer1(data['y'])\n",
    "        out = torch.relu(out)\n",
    "        out = self.layer2(out)\n",
    "        return out.sum()"
   ]
  },
  {
   "cell_type": "code",
   "execution_count": 30,
   "metadata": {},
   "outputs": [],
   "source": [
    "class InteractionModel(torch.nn.Module):\n",
    "    def __init__(self, dim_atoms, irreps_feature, irreps_atom, irreps_mid, n_interactions):\n",
    "        super().__init__()\n",
    "        self.layers = torch.nn.ModuleList([InteractionLayer(irreps_feature, irreps_atom, irreps_mid)] * n_interactions)\n",
    "        self.n_interactions = n_interactions\n",
    "        self.readout = ReadoutLayer(dim_atoms, dim_atoms // 2)\n",
    "\n",
    "    def forward(self, data):\n",
    "        data['y'] = data['x']\n",
    "        for layer in self.layers:\n",
    "            data = layer(data)\n",
    "        readout = self.readout(data)\n",
    "        return data, readout"
   ]
  },
  {
   "cell_type": "code",
   "execution_count": 31,
   "metadata": {},
   "outputs": [
    {
     "name": "stderr",
     "output_type": "stream",
     "text": [
      "/home/sanghyeonl/miniforge3/envs/torch/lib/python3.9/site-packages/torch/jit/_check.py:177: UserWarning: The TorchScript type system doesn't support instance-level annotations on empty non-base types in `__init__`. Instead, either 1) use a type annotation in the class body, or 2) wrap the type in `torch.jit.Attribute`.\n",
      "  warnings.warn(\n",
      "/home/sanghyeonl/miniforge3/envs/torch/lib/python3.9/site-packages/torch/jit/_check.py:177: UserWarning: The TorchScript type system doesn't support instance-level annotations on empty non-base types in `__init__`. Instead, either 1) use a type annotation in the class body, or 2) wrap the type in `torch.jit.Attribute`.\n",
      "  warnings.warn(\n"
     ]
    },
    {
     "data": {
      "text/plain": [
       "tensor(0.0935, grad_fn=<SumBackward0>)"
      ]
     },
     "execution_count": 31,
     "metadata": {},
     "output_type": "execute_result"
    }
   ],
   "source": [
    "model = InteractionModel(DIM_ATOMS, FEATURE_IRREPS, ATOM_IRREPS, '16x0e + 4x1o + 1x2e', N_INTERACTIONS)\n",
    "result = model(data)\n",
    "result[1]"
   ]
  }
 ],
 "metadata": {
  "kernelspec": {
   "display_name": "torch",
   "language": "python",
   "name": "python3"
  },
  "language_info": {
   "codemirror_mode": {
    "name": "ipython",
    "version": 3
   },
   "file_extension": ".py",
   "mimetype": "text/x-python",
   "name": "python",
   "nbconvert_exporter": "python",
   "pygments_lexer": "ipython3",
   "version": "3.9.19"
  }
 },
 "nbformat": 4,
 "nbformat_minor": 2
}
